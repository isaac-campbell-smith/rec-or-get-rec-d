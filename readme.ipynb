{
 "cells": [
  {
   "cell_type": "markdown",
   "metadata": {},
   "source": [
    "# Overview\n",
    "\n",
    "Project: Recommending Movies for Users based on User movie ratings, demographic data on users, and metadata about movies. The goal was to find the top movies the user is most likely to enjoy rather than predicting what they would themselves rate the movies.\n",
    "\n",
    "# Technologies\n",
    "\n",
    "- Python Pandas, Numpy, Sklearn, Matplotlib, the usual suspects\n",
    "- Pyspark, ALS (Alternating Least Squares), a sophisticated algorithm for recommendation that handles NaN values\n",
    "- LightFM __ Algorithms, a python library for optimized recommendation deep learning\n",
    "- Jupyter Lab/Notebook, code writing, testing, and visualization suite\n",
    "- AWS EC2\n",
    "\n",
    "# Challenges:\n",
    "\n",
    "- Massive Datasets (~1 million rows), limited memory for complex calculation\n",
    "- working between spark and python dataframes\n",
    "- 'Cold Start' issue of predicting on Users and Movies the trained model had not seen\n",
    "\n",
    "# The Data\n",
    "\n",
    "[MovieLens dataset](http://grouplens.org/datasets/movielens/)\n",
    "\n",
    "IMDB Movie Meta Data Set\n",
    "\n",
    "# EDA\n",
    "\n",
    "<img alt='word cloud' src='images/genres_wordcloud.png' width='90%' height='50%'>\n",
    "\n",
    "<img alt='movie ratings histogram' src='images/movie_ratings_histogram.png' width='45%' height='50%'>\n"
   ]
  },
  {
   "cell_type": "code",
   "execution_count": null,
   "metadata": {},
   "outputs": [],
   "source": []
  }
 ],
 "metadata": {
  "kernelspec": {
   "display_name": "Python 3",
   "language": "python",
   "name": "python3"
  },
  "language_info": {
   "codemirror_mode": {
    "name": "ipython",
    "version": 3
   },
   "file_extension": ".py",
   "mimetype": "text/x-python",
   "name": "python",
   "nbconvert_exporter": "python",
   "pygments_lexer": "ipython3",
   "version": "3.7.6"
  }
 },
 "nbformat": 4,
 "nbformat_minor": 4
}
