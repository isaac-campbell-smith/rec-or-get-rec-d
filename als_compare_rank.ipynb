{
 "cells": [
  {
   "cell_type": "code",
   "execution_count": 1,
   "metadata": {},
   "outputs": [],
   "source": [
    "import pandas as pd\n",
    "import numpy as np\n",
    "import matplotlib.pyplot as plt\n",
    "\n",
    "from pyspark.ml.recommendation import ALS\n",
    "\n",
    "from pyspark.sql.functions import lit\n",
    "from pyspark.sql.functions import isnan, when, count, col\n",
    "\n",
    "from pyspark.sql import SparkSession\n",
    "\n",
    "# Setup a SparkSession\n",
    "spark = SparkSession.builder.getOrCreate()"
   ]
  },
  {
   "cell_type": "code",
   "execution_count": 2,
   "metadata": {},
   "outputs": [],
   "source": [
    "ratings = pd.read_csv('data/training.csv')\n"
   ]
  },
  {
   "cell_type": "code",
   "execution_count": 3,
   "metadata": {},
   "outputs": [],
   "source": [
    "# Create a TRAINING and VALIDATION set. validation set will be the\n",
    "# last 20% of the training set, ordered by date\n",
    "ratings = ratings.sort_values(by='timestamp').reset_index(drop=True)\n",
    "training = ratings.loc[:len(ratings)*.8-1, :].copy()\n",
    "validation = ratings.loc[len(ratings)*.8:, :].copy()"
   ]
  },
  {
   "cell_type": "code",
   "execution_count": 4,
   "metadata": {},
   "outputs": [],
   "source": [
    "training = training.drop('timestamp', axis=1)\n",
    "validation = validation.drop('timestamp', axis=1)"
   ]
  },
  {
   "cell_type": "code",
   "execution_count": 5,
   "metadata": {},
   "outputs": [],
   "source": [
    "train = spark.createDataFrame(training)\n",
    "test = spark.createDataFrame(validation)"
   ]
  },
  {
   "cell_type": "code",
   "execution_count": 6,
   "metadata": {},
   "outputs": [
    {
     "name": "stdout",
     "output_type": "stream",
     "text": [
      "Density of training data: 3.99%\n"
     ]
    }
   ],
   "source": [
    "density = (train.count() / (train.select('user').distinct().count() * train.select('movie').distinct().count()))\n",
    "\n",
    "print(f'Density of training data: {density * 100:.2f}%')"
   ]
  },
  {
   "cell_type": "markdown",
   "metadata": {},
   "source": [
    "# Compare Ranks of ALS models\n"
   ]
  },
  {
   "cell_type": "code",
   "execution_count": 17,
   "metadata": {},
   "outputs": [
    {
     "data": {
      "text/plain": [
       "array([ 1,  3,  5,  7,  9, 11, 13, 15, 17, 19, 21, 23, 25])"
      ]
     },
     "execution_count": 17,
     "metadata": {},
     "output_type": "execute_result"
    }
   ],
   "source": [
    "ranks = np.arange(1,27)[::2]\n",
    "ranks"
   ]
  },
  {
   "cell_type": "code",
   "execution_count": 29,
   "metadata": {},
   "outputs": [
    {
     "name": "stdout",
     "output_type": "stream",
     "text": [
      "+----+-----+------+----------+\n",
      "|user|movie|rating|prediction|\n",
      "+----+-----+------+----------+\n",
      "| 673|  148|     5|       NaN|\n",
      "|1242|  148|     3|       NaN|\n",
      "|1069|  148|     2|       NaN|\n",
      "|1605|  148|     2| 1.9660332|\n",
      "|1150|  148|     2|       NaN|\n",
      "| 660|  463|     3|       NaN|\n",
      "|1069|  463|     2|       NaN|\n",
      "|1146|  463|     2|       NaN|\n",
      "| 746|  463|     1|       NaN|\n",
      "|1980|  463|     2|  2.344157|\n",
      "|1395|  471|     5|       NaN|\n",
      "|1303|  471|     4|       NaN|\n",
      "|1199|  471|     3|       NaN|\n",
      "|1404|  471|     3|       NaN|\n",
      "|1441|  471|     5|       NaN|\n",
      "|1496|  471|     2|       NaN|\n",
      "|1156|  471|     3|       NaN|\n",
      "| 731|  471|     5|       NaN|\n",
      "|1019|  471|     4|       NaN|\n",
      "|1294|  471|     4|       NaN|\n",
      "+----+-----+------+----------+\n",
      "only showing top 20 rows\n",
      "\n"
     ]
    }
   ],
   "source": [
    "predictions_test.show()"
   ]
  },
  {
   "cell_type": "code",
   "execution_count": 32,
   "metadata": {},
   "outputs": [],
   "source": [
    "import numpy as np"
   ]
  },
  {
   "cell_type": "code",
   "execution_count": 14,
   "metadata": {},
   "outputs": [
    {
     "name": "stdout",
     "output_type": "stream",
     "text": [
      "The percent of NaNs in predictions for model with rank 20: 79.26%\n",
      "Average squared error of predictions for model with rank 20: 1.23\n",
      "Root Mean Squared Error of Predictions for model with rank 20: 1.11\n",
      "Standard Deviation of True Ratings: 1.12\n",
      "Standard Deviation of Prediction for model with rank 20: 0.33\n",
      "RMSE Percentage for model with rank 20: 31.49%\n"
     ]
    },
    {
     "data": {
      "image/png": "[encoded data removed]",
      "text/plain": [
       "<Figure size 720x720 with 1 Axes>"
      ]
     },
     "metadata": {
      "needs_background": "light"
     },
     "output_type": "display_data"
    }
   ],
   "source": [
    "# for r in ranks:\n",
    "r = 20\n",
    "\n",
    "model = ALS(\n",
    "    itemCol='movie',\n",
    "    userCol='user',\n",
    "    ratingCol='rating',\n",
    "    nonnegative=True,    \n",
    "    regParam=0.1,\n",
    "    rank=r)\n",
    "\n",
    "# Train the ALS model\n",
    "recommender = model.fit(train)\n",
    "\n",
    "# predict on training data\n",
    "#predictions_train = recommender.transform(train)\n",
    "\n",
    "predictions_test = recommender.transform(test)\n",
    "\n",
    "predictions_pandas = predictions_test.toPandas()\n",
    "\n",
    "count_nans_prediction = predictions_pandas['prediction'].isna().sum()\n",
    "\n",
    "percent_nans = count_nans_prediction / predictions_pandas.shape[0]\n",
    "\n",
    "print(f\"The percent of NaNs in predictions for model with rank {r}: {percent_nans*100:.2f}%\")\n",
    "\n",
    "predictions_pandas = predictions_pandas.fillna(training['rating'].mean())\n",
    "\n",
    "predictions_pandas['squared_error'] = (predictions_pandas['rating'] - predictions_pandas['prediction'])**2\n",
    "\n",
    "avg_sq_err = predictions_pandas.describe()['squared_error']['mean']\n",
    "print(f'Average squared error of predictions for model with rank {r}: {avg_sq_err:.2f}')\n",
    "\n",
    "# Calculate RMSE\n",
    "rmse = np.sqrt(sum(predictions_pandas['squared_error']) / len(predictions_pandas))\n",
    "print(f'Root Mean Squared Error of Predictions for model with rank {r}: {rmse:.2f}')\n",
    "\n",
    "std_rating = ratings.describe()['rating']['std']\n",
    "std_pred = predictions_pandas.describe()['prediction']['std']\n",
    "\n",
    "print(f'Standard Deviation of True Ratings: {std_rating:.2f}')\n",
    "print(f'Standard Deviation of Prediction for model with rank {r}: {std_pred:.2f}')\n",
    "\n",
    "_mean = predictions_pandas['rating'].mean()\n",
    "rmsep = rmse / _mean\n",
    "print(f'RMSE Percentage for model with rank {r}: {rmsep * 100:.2f}%')\n",
    "\n",
    "# Create array of predictions for violinplot\n",
    "data = [predictions_pandas['prediction'][ratings['rating'] == rating].values for rating in range(1, 6)]\n",
    "fig, ax = plt.subplots(figsize=(10,10))\n",
    "plt.violinplot(data, range(1,6), showmeans=True)\n",
    "plt.xlabel('True Ratings')\n",
    "plt.ylabel('Predicted Ratings')\n",
    "plt.title(f'True vs. Predicted Ratings for Model with Rank {r}')\n",
    "plt.show()\n"
   ]
  },
  {
   "cell_type": "code",
   "execution_count": 17,
   "metadata": {},
   "outputs": [
    {
     "name": "stdout",
     "output_type": "stream",
     "text": [
      "The percent of NaNs in predictions for model with rank 50: 79.26%\n",
      "Average squared error of predictions for model with rank 50: 1.23\n",
      "Root Mean Squared Error of Predictions for model with rank 50: 1.11\n",
      "Standard Deviation of True Ratings: 1.12\n",
      "Standard Deviation of Prediction for model with rank 50: 0.33\n",
      "RMSE Percentage for model with rank 50: 31.48%\n"
     ]
    },
    {
     "data": {
      "image/png": "[encoded data removed]",
      "text/plain": [
       "<Figure size 720x720 with 1 Axes>"
      ]
     },
     "metadata": {
      "needs_background": "light"
     },
     "output_type": "display_data"
    }
   ],
   "source": [
    "# for r in ranks:\n",
    "r = 50\n",
    "\n",
    "model = ALS(\n",
    "    itemCol='movie',\n",
    "    userCol='user',\n",
    "    ratingCol='rating',\n",
    "    nonnegative=True,    \n",
    "    regParam=0.1,\n",
    "    rank=r)\n",
    "\n",
    "# Train the ALS model\n",
    "recommender = model.fit(train)\n",
    "\n",
    "# predict on training data\n",
    "#predictions_train = recommender.transform(train)\n",
    "\n",
    "predictions_test = recommender.transform(test)\n",
    "\n",
    "\n",
    "predictions_pandas = predictions_test.toPandas()\n",
    "\n",
    "count_nans_prediction = predictions_pandas['prediction'].isna().sum()\n",
    "\n",
    "percent_nans = count_nans_prediction / predictions_pandas.shape[0]\n",
    "\n",
    "print(f\"The percent of NaNs in predictions for model with rank {r}: {percent_nans*100:.2f}%\")\n",
    "\n",
    "predictions_pandas = predictions_pandas.fillna(training['rating'].mean())\n",
    "\n",
    "predictions_pandas['squared_error'] = (predictions_pandas['rating'] - predictions_pandas['prediction'])**2\n",
    "\n",
    "avg_sq_err = predictions_pandas.describe()['squared_error']['mean']\n",
    "print(f'Average squared error of predictions for model with rank {r}: {avg_sq_err:.2f}')\n",
    "\n",
    "# Calculate RMSE\n",
    "rmse = np.sqrt(sum(predictions_pandas['squared_error']) / len(predictions_pandas))\n",
    "print(f'Root Mean Squared Error of Predictions for model with rank {r}: {rmse:.2f}')\n",
    "\n",
    "std_rating = ratings.describe()['rating']['std']\n",
    "std_pred = predictions_pandas.describe()['prediction']['std']\n",
    "\n",
    "print(f'Standard Deviation of True Ratings: {std_rating:.2f}')\n",
    "print(f'Standard Deviation of Prediction for model with rank {r}: {std_pred:.2f}')\n",
    "\n",
    "_mean = predictions_pandas['rating'].mean()\n",
    "rmsep = rmse / _mean\n",
    "print(f'RMSE Percentage for model with rank {r}: {rmsep * 100:.2f}%')\n",
    "\n",
    "# Create array of predictions for violinplot\n",
    "data = [predictions_pandas['prediction'][ratings['rating'] == rating].values for rating in range(1, 6)]\n",
    "fig, ax = plt.subplots(figsize=(10,10))\n",
    "plt.violinplot(data, range(1,6), showmeans=True)\n",
    "plt.xlabel('True Ratings')\n",
    "plt.ylabel('Predicted Ratings')\n",
    "plt.title(f'True vs. Predicted Ratings for Model with Rank {r}')\n",
    "plt.show()\n"
   ]
  },
  {
   "cell_type": "code",
   "execution_count": 61,
   "metadata": {},
   "outputs": [
    {
     "name": "stdout",
     "output_type": "stream",
     "text": [
      "+----+-----+------+---------+----------+\n",
      "|user|movie|rating|timestamp|prediction|\n",
      "+----+-----+------+---------+----------+\n",
      "|   0|    0|     0|        0|         0|\n",
      "+----+-----+------+---------+----------+\n",
      "\n"
     ]
    }
   ],
   "source": [
    "yhat_train.select([count(when(isnan(c), c)).alias(c) for c in yhat_train.columns]).show()"
   ]
  },
  {
   "cell_type": "code",
   "execution_count": 62,
   "metadata": {
    "collapsed": true,
    "jupyter": {
     "outputs_hidden": true
    }
   },
   "outputs": [
    {
     "name": "stdout",
     "output_type": "stream",
     "text": [
      "+----+-----+------+---------+----------+\n",
      "|user|movie|rating|timestamp|prediction|\n",
      "+----+-----+------+---------+----------+\n",
      "|4227|  148|     2|965659724| 2.1379628|\n",
      "|3184|  148|     4|968708953| 3.2579472|\n",
      "|4784|  148|     3|970000570| 2.9012449|\n",
      "|2383|  148|     2|974417654| 2.3509796|\n",
      "|3539|  148|     3|966932408| 2.7074847|\n",
      "|3829|  148|     2|965940170| 2.3784328|\n",
      "|2456|  148|     2|974178993| 2.4450996|\n",
      "|2507|  148|     4|974082717| 3.1364677|\n",
      "|3053|  148|     3|970170090|  2.677186|\n",
      "|3841|  463|     3|966003085|  2.566588|\n",
      "|3650|  463|     2|966459084|  2.589714|\n",
      "|3151|  463|     5|968916009| 3.9177732|\n",
      "|4858|  463|     3|963746396| 2.4707265|\n",
      "|2629|  463|     4|973625620| 3.1455767|\n",
      "|3328|  463|     4|967918151| 3.1497078|\n",
      "|4040|  463|     1|965505136| 1.7982821|\n",
      "|4277|  463|     4|965469038| 3.3358335|\n",
      "|2051|  463|     1|974663178| 1.9354658|\n",
      "|3753|  463|     2|966184754| 2.2116852|\n",
      "|5047|  463|     3|966134684| 2.2635717|\n",
      "+----+-----+------+---------+----------+\n",
      "only showing top 20 rows\n",
      "\n"
     ]
    }
   ],
   "source": [
    "yhat_train.show()"
   ]
  },
  {
   "cell_type": "code",
   "execution_count": 63,
   "metadata": {},
   "outputs": [],
   "source": [
    "predictions = recommender.transform(test)"
   ]
  },
  {
   "cell_type": "code",
   "execution_count": 64,
   "metadata": {},
   "outputs": [
    {
     "name": "stdout",
     "output_type": "stream",
     "text": [
      "+----+-----+------+---------+----------+\n",
      "|user|movie|rating|timestamp|prediction|\n",
      "+----+-----+------+---------+----------+\n",
      "|   0|    0|     0|        0|    126058|\n",
      "+----+-----+------+---------+----------+\n",
      "\n"
     ]
    }
   ],
   "source": [
    "# nans in the testing prediction\n",
    "predictions.select([count(when(isnan(c), c)).alias(c) for c in yhat_train.columns]).show()"
   ]
  },
  {
   "cell_type": "markdown",
   "metadata": {},
   "source": [
    "# Evaluate baseline"
   ]
  },
  {
   "cell_type": "code",
   "execution_count": 65,
   "metadata": {},
   "outputs": [],
   "source": [
    "# Dump the predictions to Pandas DataFrames to make our final calculations easier\n",
    "predictions_df = predictions.toPandas()\n",
    "train_df = train.toPandas()"
   ]
  },
  {
   "cell_type": "code",
   "execution_count": 66,
   "metadata": {},
   "outputs": [],
   "source": [
    "# Fill any missing values with the mean rating\n",
    "# There are multiple things you could fill with, this is just one example\n",
    "predictions_df = predictions.toPandas().fillna(train_df['rating'].mean())"
   ]
  },
  {
   "cell_type": "code",
   "execution_count": 67,
   "metadata": {},
   "outputs": [],
   "source": [
    "predictions_df['squared_error'] = (predictions_df['rating'] - predictions_df['prediction'])**2"
   ]
  },
  {
   "cell_type": "code",
   "execution_count": 68,
   "metadata": {},
   "outputs": [
    {
     "data": {
      "text/html": [
       "<div>\n",
       "<style scoped>\n",
       "    .dataframe tbody tr th:only-of-type {\n",
       "        vertical-align: middle;\n",
       "    }\n",
       "\n",
       "    .dataframe tbody tr th {\n",
       "        vertical-align: top;\n",
       "    }\n",
       "\n",
       "    .dataframe thead th {\n",
       "        text-align: right;\n",
       "    }\n",
       "</style>\n",
       "<table border=\"1\" class=\"dataframe\">\n",
       "  <thead>\n",
       "    <tr style=\"text-align: right;\">\n",
       "      <th></th>\n",
       "      <th>user</th>\n",
       "      <th>movie</th>\n",
       "      <th>rating</th>\n",
       "      <th>timestamp</th>\n",
       "      <th>prediction</th>\n",
       "      <th>squared_error</th>\n",
       "    </tr>\n",
       "  </thead>\n",
       "  <tbody>\n",
       "    <tr>\n",
       "      <th>0</th>\n",
       "      <td>673</td>\n",
       "      <td>148</td>\n",
       "      <td>5</td>\n",
       "      <td>975620824</td>\n",
       "      <td>3.606881</td>\n",
       "      <td>1.940779</td>\n",
       "    </tr>\n",
       "    <tr>\n",
       "      <th>1</th>\n",
       "      <td>1242</td>\n",
       "      <td>148</td>\n",
       "      <td>3</td>\n",
       "      <td>974909976</td>\n",
       "      <td>3.606881</td>\n",
       "      <td>0.368305</td>\n",
       "    </tr>\n",
       "    <tr>\n",
       "      <th>2</th>\n",
       "      <td>1069</td>\n",
       "      <td>148</td>\n",
       "      <td>2</td>\n",
       "      <td>974945135</td>\n",
       "      <td>3.606881</td>\n",
       "      <td>2.582068</td>\n",
       "    </tr>\n",
       "    <tr>\n",
       "      <th>3</th>\n",
       "      <td>1605</td>\n",
       "      <td>148</td>\n",
       "      <td>2</td>\n",
       "      <td>974930221</td>\n",
       "      <td>1.980308</td>\n",
       "      <td>0.000388</td>\n",
       "    </tr>\n",
       "    <tr>\n",
       "      <th>4</th>\n",
       "      <td>1150</td>\n",
       "      <td>148</td>\n",
       "      <td>2</td>\n",
       "      <td>974875106</td>\n",
       "      <td>3.606881</td>\n",
       "      <td>2.582068</td>\n",
       "    </tr>\n",
       "  </tbody>\n",
       "</table>\n",
       "</div>"
      ],
      "text/plain": [
       "   user  movie  rating  timestamp  prediction  squared_error\n",
       "0   673    148       5  975620824    3.606881       1.940779\n",
       "1  1242    148       3  974909976    3.606881       0.368305\n",
       "2  1069    148       2  974945135    3.606881       2.582068\n",
       "3  1605    148       2  974930221    1.980308       0.000388\n",
       "4  1150    148       2  974875106    3.606881       2.582068"
      ]
     },
     "execution_count": 68,
     "metadata": {},
     "output_type": "execute_result"
    }
   ],
   "source": [
    "predictions_df.head()"
   ]
  },
  {
   "cell_type": "code",
   "execution_count": 69,
   "metadata": {},
   "outputs": [
    {
     "data": {
      "text/html": [
       "<div>\n",
       "<style scoped>\n",
       "    .dataframe tbody tr th:only-of-type {\n",
       "        vertical-align: middle;\n",
       "    }\n",
       "\n",
       "    .dataframe tbody tr th {\n",
       "        vertical-align: top;\n",
       "    }\n",
       "\n",
       "    .dataframe thead th {\n",
       "        text-align: right;\n",
       "    }\n",
       "</style>\n",
       "<table border=\"1\" class=\"dataframe\">\n",
       "  <thead>\n",
       "    <tr style=\"text-align: right;\">\n",
       "      <th></th>\n",
       "      <th>user</th>\n",
       "      <th>movie</th>\n",
       "      <th>rating</th>\n",
       "      <th>timestamp</th>\n",
       "      <th>prediction</th>\n",
       "      <th>squared_error</th>\n",
       "    </tr>\n",
       "  </thead>\n",
       "  <tbody>\n",
       "    <tr>\n",
       "      <th>count</th>\n",
       "      <td>158176.000000</td>\n",
       "      <td>158176.000000</td>\n",
       "      <td>158176.000000</td>\n",
       "      <td>1.581760e+05</td>\n",
       "      <td>158176.000000</td>\n",
       "      <td>1.581760e+05</td>\n",
       "    </tr>\n",
       "    <tr>\n",
       "      <th>mean</th>\n",
       "      <td>1280.579235</td>\n",
       "      <td>1868.670829</td>\n",
       "      <td>3.523923</td>\n",
       "      <td>9.750753e+08</td>\n",
       "      <td>3.545189</td>\n",
       "      <td>1.235456e+00</td>\n",
       "    </tr>\n",
       "    <tr>\n",
       "      <th>std</th>\n",
       "      <td>516.866310</td>\n",
       "      <td>1103.873411</td>\n",
       "      <td>1.146110</td>\n",
       "      <td>3.016431e+05</td>\n",
       "      <td>0.329173</td>\n",
       "      <td>1.646257e+00</td>\n",
       "    </tr>\n",
       "    <tr>\n",
       "      <th>min</th>\n",
       "      <td>636.000000</td>\n",
       "      <td>1.000000</td>\n",
       "      <td>1.000000</td>\n",
       "      <td>9.747400e+08</td>\n",
       "      <td>0.290563</td>\n",
       "      <td>4.604317e-10</td>\n",
       "    </tr>\n",
       "    <tr>\n",
       "      <th>25%</th>\n",
       "      <td>935.000000</td>\n",
       "      <td>1025.000000</td>\n",
       "      <td>3.000000</td>\n",
       "      <td>9.748185e+08</td>\n",
       "      <td>3.606881</td>\n",
       "      <td>1.545423e-01</td>\n",
       "    </tr>\n",
       "    <tr>\n",
       "      <th>50%</th>\n",
       "      <td>1202.000000</td>\n",
       "      <td>1836.000000</td>\n",
       "      <td>4.000000</td>\n",
       "      <td>9.749512e+08</td>\n",
       "      <td>3.606881</td>\n",
       "      <td>3.683050e-01</td>\n",
       "    </tr>\n",
       "    <tr>\n",
       "      <th>75%</th>\n",
       "      <td>1491.000000</td>\n",
       "      <td>2770.000000</td>\n",
       "      <td>4.000000</td>\n",
       "      <td>9.753519e+08</td>\n",
       "      <td>3.606881</td>\n",
       "      <td>1.940779e+00</td>\n",
       "    </tr>\n",
       "    <tr>\n",
       "      <th>max</th>\n",
       "      <td>5996.000000</td>\n",
       "      <td>3952.000000</td>\n",
       "      <td>5.000000</td>\n",
       "      <td>9.757673e+08</td>\n",
       "      <td>5.577134</td>\n",
       "      <td>1.247443e+01</td>\n",
       "    </tr>\n",
       "  </tbody>\n",
       "</table>\n",
       "</div>"
      ],
      "text/plain": [
       "                user          movie         rating     timestamp  \\\n",
       "count  158176.000000  158176.000000  158176.000000  1.581760e+05   \n",
       "mean     1280.579235    1868.670829       3.523923  9.750753e+08   \n",
       "std       516.866310    1103.873411       1.146110  3.016431e+05   \n",
       "min       636.000000       1.000000       1.000000  9.747400e+08   \n",
       "25%       935.000000    1025.000000       3.000000  9.748185e+08   \n",
       "50%      1202.000000    1836.000000       4.000000  9.749512e+08   \n",
       "75%      1491.000000    2770.000000       4.000000  9.753519e+08   \n",
       "max      5996.000000    3952.000000       5.000000  9.757673e+08   \n",
       "\n",
       "          prediction  squared_error  \n",
       "count  158176.000000   1.581760e+05  \n",
       "mean        3.545189   1.235456e+00  \n",
       "std         0.329173   1.646257e+00  \n",
       "min         0.290563   4.604317e-10  \n",
       "25%         3.606881   1.545423e-01  \n",
       "50%         3.606881   3.683050e-01  \n",
       "75%         3.606881   1.940779e+00  \n",
       "max         5.577134   1.247443e+01  "
      ]
     },
     "execution_count": 69,
     "metadata": {},
     "output_type": "execute_result"
    }
   ],
   "source": [
    "predictions_df.describe()"
   ]
  },
  {
   "cell_type": "code",
   "execution_count": 74,
   "metadata": {},
   "outputs": [
    {
     "name": "stdout",
     "output_type": "stream",
     "text": [
      "Average squared error of predictions: 1.24\n"
     ]
    }
   ],
   "source": [
    "avg_sq_err = predictions_df.describe()['squared_error']['mean']\n",
    "print(f'Average squared error of predictions: {avg_sq_err:.2f}')"
   ]
  },
  {
   "cell_type": "code",
   "execution_count": 76,
   "metadata": {},
   "outputs": [
    {
     "name": "stdout",
     "output_type": "stream",
     "text": [
      "Root Mean Squared Error of Predictions: 1.11\n"
     ]
    }
   ],
   "source": [
    "# Calculate RMSE\n",
    "rmse = np.sqrt(sum(predictions_df['squared_error']) / len(predictions_df))\n",
    "print(f'Root Mean Squared Error of Predictions: {rmse:.2f}')"
   ]
  },
  {
   "cell_type": "code",
   "execution_count": 83,
   "metadata": {},
   "outputs": [
    {
     "name": "stdout",
     "output_type": "stream",
     "text": [
      "Standard Deviation of Rating: 1.15\n",
      "Standard Deviation of Prediction: 0.33\n"
     ]
    }
   ],
   "source": [
    "std_rating = predictions_df.describe()['rating']['std']\n",
    "std_pred = predictions_df.describe()['prediction']['std']\n",
    "\n",
    "print(f'Standard Deviation of Rating: {std_rating:.2f}')\n",
    "print(f'Standard Deviation of Prediction: {std_pred:.2f}')"
   ]
  },
  {
   "cell_type": "code",
   "execution_count": 84,
   "metadata": {},
   "outputs": [
    {
     "name": "stdout",
     "output_type": "stream",
     "text": [
      "RMSE Percentage = 31.54%\n"
     ]
    }
   ],
   "source": [
    "_mean = predictions_df['rating'].mean()\n",
    "rmsep = rmse / _mean\n",
    "print(f'RMSE Percentage = {rmsep * 100:.2f}%')"
   ]
  },
  {
   "cell_type": "code",
   "execution_count": 82,
   "metadata": {},
   "outputs": [
    {
     "data": {
      "image/png": "[encoded data removed]",
      "text/plain": [
       "<Figure size 720x720 with 1 Axes>"
      ]
     },
     "metadata": {
      "needs_background": "light"
     },
     "output_type": "display_data"
    }
   ],
   "source": [
    "# Create array of predictions for violinplot\n",
    "data = [predictions_df['prediction'][predictions_df['rating'] == rating].values for rating in range(1, 6)]\n",
    "fig, ax = plt.subplots(figsize=(10,10))\n",
    "plt.violinplot(data, range(1,6), showmeans=True)\n",
    "plt.xlabel('True Ratings')\n",
    "plt.ylabel('Predicted Ratings')\n",
    "plt.title('True vs. ALS Recommender Predicted Ratings')\n",
    "plt.show()"
   ]
  },
  {
   "cell_type": "markdown",
   "metadata": {},
   "source": [
    "# implicit interactions"
   ]
  },
  {
   "cell_type": "code",
   "execution_count": 39,
   "metadata": {},
   "outputs": [],
   "source": [
    "train = train.withColumn(\"imp_rating\", lit(1))\n"
   ]
  },
  {
   "cell_type": "code",
   "execution_count": 40,
   "metadata": {},
   "outputs": [
    {
     "name": "stdout",
     "output_type": "stream",
     "text": [
      "+----+-----+------+---------+----------+\n",
      "|user|movie|rating|timestamp|imp_rating|\n",
      "+----+-----+------+---------+----------+\n",
      "|5344|  300|     4|960670929|         1|\n",
      "|5344|  480|     3|960670865|         1|\n",
      "|5344| 1210|     1|960671010|         1|\n",
      "|5344| 2330|     4|960671323|         1|\n",
      "|5344| 3671|     4|960671113|         1|\n",
      "|5344| 3688|     1|960671208|         1|\n",
      "|5344| 3724|     4|960671133|         1|\n",
      "|5345|    6|     5|960671329|         1|\n",
      "|5345|   21|     3|960671248|         1|\n",
      "|5345|  110|     5|960671248|         1|\n",
      "|5345|  172|     3|960670788|         1|\n",
      "|5345|  260|     5|960671126|         1|\n",
      "|5345|  306|     4|960671025|         1|\n",
      "|5345|  381|     5|960671025|         1|\n",
      "|5345|  457|     4|960671248|         1|\n",
      "|5345|  474|     4|960671329|         1|\n",
      "|5345|  858|     5|960671126|         1|\n",
      "|5345| 1036|     4|960671279|         1|\n",
      "|5345| 1196|     5|960670761|         1|\n",
      "|5345| 1197|     5|960671216|         1|\n",
      "+----+-----+------+---------+----------+\n",
      "only showing top 20 rows\n",
      "\n"
     ]
    }
   ],
   "source": [
    "train.show()"
   ]
  },
  {
   "cell_type": "code",
   "execution_count": 18,
   "metadata": {},
   "outputs": [
    {
     "name": "stdout",
     "output_type": "stream",
     "text": [
      "The percent of NaNs in predictions for model with rank 50: 79.26%\n",
      "Average squared error of predictions for model with rank 50: 3.52\n",
      "Root Mean Squared Error of Predictions for model with rank 50: 1.88\n",
      "Standard Deviation of True Ratings: 1.12\n",
      "Standard Deviation of Prediction for model with rank 50: 1.37\n",
      "RMSE Percentage for model with rank 50: 53.18%\n"
     ]
    },
    {
     "data": {
      "image/png": "[encoded data removed]",
      "text/plain": [
       "<Figure size 720x720 with 1 Axes>"
      ]
     },
     "metadata": {
      "needs_background": "light"
     },
     "output_type": "display_data"
    }
   ],
   "source": [
    "als_model_imp = ALS(userCol='user',\n",
    "                itemCol='movie',\n",
    "                ratingCol='rating',\n",
    "                implicitPrefs=True,\n",
    "                nonnegative=True,\n",
    "                regParam=0.1,\n",
    "                rank=10\n",
    "               )\n",
    "\n",
    "recommender_imp = als_model_imp.fit(train)\n",
    "\n",
    "# predict on training data\n",
    "#predictions_train = recommender_imp.transform(train)\n",
    "\n",
    "predictions_test = recommender_imp.transform(test)\n",
    "\n",
    "predictions_pandas = predictions_test.toPandas()\n",
    "\n",
    "count_nans_prediction = predictions_pandas['prediction'].isna().sum()\n",
    "\n",
    "percent_nans = count_nans_prediction / predictions_pandas.shape[0]\n",
    "\n",
    "print(f\"The percent of NaNs in predictions for model with rank {r}: {percent_nans*100:.2f}%\")\n",
    "\n",
    "predictions_pandas = predictions_pandas.fillna(training['rating'].mean())\n",
    "\n",
    "predictions_pandas['squared_error'] = (predictions_pandas['rating'] - predictions_pandas['prediction'])**2\n",
    "\n",
    "avg_sq_err = predictions_pandas.describe()['squared_error']['mean']\n",
    "print(f'Average squared error of predictions for model with rank {r}: {avg_sq_err:.2f}')\n",
    "\n",
    "# Calculate RMSE\n",
    "rmse = np.sqrt(sum(predictions_pandas['squared_error']) / len(predictions_pandas))\n",
    "print(f'Root Mean Squared Error of Predictions for model with rank {r}: {rmse:.2f}')\n",
    "\n",
    "std_rating = ratings.describe()['rating']['std']\n",
    "std_pred = predictions_pandas.describe()['prediction']['std']\n",
    "\n",
    "print(f'Standard Deviation of True Ratings: {std_rating:.2f}')\n",
    "print(f'Standard Deviation of Prediction for model with rank {r}: {std_pred:.2f}')\n",
    "\n",
    "_mean = predictions_pandas['rating'].mean()\n",
    "rmsep = rmse / _mean\n",
    "print(f'RMSE Percentage for model with rank {r}: {rmsep * 100:.2f}%')\n",
    "\n",
    "# Create array of predictions for violinplot\n",
    "data = [predictions_pandas['prediction'][ratings['rating'] == rating].values for rating in range(1, 6)]\n",
    "fig, ax = plt.subplots(figsize=(10,10))\n",
    "plt.violinplot(data, range(1,6), showmeans=True)\n",
    "plt.xlabel('True Ratings')\n",
    "plt.ylabel('Predicted Ratings')\n",
    "plt.title(f'True vs. Predicted Ratings for Model with Rank {r}')\n",
    "plt.show()\n"
   ]
  },
  {
   "cell_type": "code",
   "execution_count": 42,
   "metadata": {},
   "outputs": [],
   "source": [
    "# Dump the predictions to Pandas DataFrames to make our final calculations easier\n",
    "predictions_df = predictions.toPandas()\n",
    "train_df = train.toPandas()"
   ]
  }
 ],
 "metadata": {
  "kernelspec": {
   "display_name": "Python 3",
   "language": "python",
   "name": "python3"
  },
  "language_info": {
   "codemirror_mode": {
    "name": "ipython",
    "version": 3
   },
   "file_extension": ".py",
   "mimetype": "text/x-python",
   "name": "python",
   "nbconvert_exporter": "python",
   "pygments_lexer": "ipython3",
   "version": "3.7.6"
  }
 },
 "nbformat": 4,
 "nbformat_minor": 4
}
