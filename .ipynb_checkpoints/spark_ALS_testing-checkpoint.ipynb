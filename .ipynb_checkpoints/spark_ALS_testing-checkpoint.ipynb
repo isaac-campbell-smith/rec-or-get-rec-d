{
 "cells": [
  {
   "cell_type": "code",
   "execution_count": 1,
   "metadata": {},
   "outputs": [],
   "source": [
    "import pandas as pd\n",
    "import numpy as np\n",
    "import matplotlib.pyplot as plt\n",
    "\n",
    "from pyspark.ml.recommendation import ALS\n",
    "\n",
    "from pyspark.sql.functions import lit\n",
    "from pyspark.sql.functions import isnan, when, count, col\n",
    "\n",
    "from pyspark.sql import SparkSession\n",
    "\n",
    "# Setup a SparkSession\n",
    "spark = SparkSession.builder.getOrCreate()"
   ]
  },
  {
   "cell_type": "code",
   "execution_count": 2,
   "metadata": {},
   "outputs": [],
   "source": [
    "# Load in the training set\n",
    "training = pd.read_csv('data/training.csv')\n",
    "training.drop(columns='timestamp', inplace=True)"
   ]
  },
  {
   "cell_type": "code",
   "execution_count": 3,
   "metadata": {},
   "outputs": [],
   "source": [
    "# Convert to a Spark DataFrame\n",
    "training_df = spark.createDataFrame(training)"
   ]
  },
  {
   "cell_type": "code",
   "execution_count": 4,
   "metadata": {},
   "outputs": [],
   "source": [
    "# Load in the requests set\n",
    "requests = pd.read_csv('data/requests.csv')"
   ]
  },
  {
   "cell_type": "code",
   "execution_count": 5,
   "metadata": {},
   "outputs": [],
   "source": [
    "# Convert to a Spark DataFrame\n",
    "requests_df = spark.createDataFrame(requests)"
   ]
  },
  {
   "cell_type": "code",
   "execution_count": 6,
   "metadata": {},
   "outputs": [],
   "source": [
    "# Declare an ALS model\n",
    "als_model = ALS(\n",
    "    itemCol='movie',\n",
    "    userCol='user',\n",
    "    ratingCol='rating',\n",
    "    nonnegative=True,    \n",
    "    regParam=0.1,\n",
    "    rank=10)"
   ]
  },
  {
   "cell_type": "code",
   "execution_count": 7,
   "metadata": {},
   "outputs": [],
   "source": [
    "# Create an instance of the fit ALS model\n",
    "recommender = als_model.fit(training_df)"
   ]
  },
  {
   "cell_type": "code",
   "execution_count": 8,
   "metadata": {},
   "outputs": [],
   "source": [
    "predictions = recommender.transform(requests_df)"
   ]
  },
  {
   "cell_type": "code",
   "execution_count": 9,
   "metadata": {},
   "outputs": [],
   "source": [
    "predictions_pandas = predictions.toPandas()"
   ]
  },
  {
   "cell_type": "code",
   "execution_count": 11,
   "metadata": {},
   "outputs": [
    {
     "data": {
      "text/html": [
       "<div>\n",
       "<style scoped>\n",
       "    .dataframe tbody tr th:only-of-type {\n",
       "        vertical-align: middle;\n",
       "    }\n",
       "\n",
       "    .dataframe tbody tr th {\n",
       "        vertical-align: top;\n",
       "    }\n",
       "\n",
       "    .dataframe thead th {\n",
       "        text-align: right;\n",
       "    }\n",
       "</style>\n",
       "<table border=\"1\" class=\"dataframe\">\n",
       "  <thead>\n",
       "    <tr style=\"text-align: right;\">\n",
       "      <th></th>\n",
       "      <th>user</th>\n",
       "      <th>movie</th>\n",
       "      <th>prediction</th>\n",
       "    </tr>\n",
       "  </thead>\n",
       "  <tbody>\n",
       "    <tr>\n",
       "      <th>count</th>\n",
       "      <td>200209.000000</td>\n",
       "      <td>200209.000000</td>\n",
       "      <td>104439.000000</td>\n",
       "    </tr>\n",
       "    <tr>\n",
       "      <th>mean</th>\n",
       "      <td>1511.751225</td>\n",
       "      <td>1930.586682</td>\n",
       "      <td>3.364062</td>\n",
       "    </tr>\n",
       "    <tr>\n",
       "      <th>std</th>\n",
       "      <td>1582.930564</td>\n",
       "      <td>1129.670350</td>\n",
       "      <td>0.663919</td>\n",
       "    </tr>\n",
       "    <tr>\n",
       "      <th>min</th>\n",
       "      <td>1.000000</td>\n",
       "      <td>1.000000</td>\n",
       "      <td>0.549139</td>\n",
       "    </tr>\n",
       "    <tr>\n",
       "      <th>25%</th>\n",
       "      <td>331.000000</td>\n",
       "      <td>1046.000000</td>\n",
       "      <td>2.949743</td>\n",
       "    </tr>\n",
       "    <tr>\n",
       "      <th>50%</th>\n",
       "      <td>752.000000</td>\n",
       "      <td>1946.000000</td>\n",
       "      <td>3.423734</td>\n",
       "    </tr>\n",
       "    <tr>\n",
       "      <th>75%</th>\n",
       "      <td>2131.000000</td>\n",
       "      <td>2890.000000</td>\n",
       "      <td>3.835766</td>\n",
       "    </tr>\n",
       "    <tr>\n",
       "      <th>max</th>\n",
       "      <td>6040.000000</td>\n",
       "      <td>3952.000000</td>\n",
       "      <td>5.541839</td>\n",
       "    </tr>\n",
       "  </tbody>\n",
       "</table>\n",
       "</div>"
      ],
      "text/plain": [
       "                user          movie     prediction\n",
       "count  200209.000000  200209.000000  104439.000000\n",
       "mean     1511.751225    1930.586682       3.364062\n",
       "std      1582.930564    1129.670350       0.663919\n",
       "min         1.000000       1.000000       0.549139\n",
       "25%       331.000000    1046.000000       2.949743\n",
       "50%       752.000000    1946.000000       3.423734\n",
       "75%      2131.000000    2890.000000       3.835766\n",
       "max      6040.000000    3952.000000       5.541839"
      ]
     },
     "execution_count": 11,
     "metadata": {},
     "output_type": "execute_result"
    }
   ],
   "source": [
    "predictions_pandas.describe()"
   ]
  },
  {
   "cell_type": "code",
   "execution_count": 12,
   "metadata": {},
   "outputs": [],
   "source": [
    "count_nans_prediction = predictions_pandas['prediction'].isna().sum()"
   ]
  },
  {
   "cell_type": "code",
   "execution_count": 13,
   "metadata": {},
   "outputs": [],
   "source": [
    "percent_nans = count_nans_prediction / predictions_pandas.shape[0]"
   ]
  },
  {
   "cell_type": "code",
   "execution_count": 14,
   "metadata": {},
   "outputs": [
    {
     "name": "stdout",
     "output_type": "stream",
     "text": [
      "The percent of NaN's for the predictions dataset is: \n",
      "47.83501241202943\n"
     ]
    }
   ],
   "source": [
    "print(\"The percent of NaN's for the predictions dataset is: \")\n",
    "print(percent_nans*100)"
   ]
  },
  {
   "cell_type": "markdown",
   "metadata": {},
   "source": [
    "### For the first guess, we will fill the NaN's with the mean of the training data set."
   ]
  },
  {
   "cell_type": "code",
   "execution_count": 17,
   "metadata": {},
   "outputs": [],
   "source": [
    "predictions_pandas = predictions_pandas.fillna(training['rating'].mean())"
   ]
  },
  {
   "cell_type": "code",
   "execution_count": 18,
   "metadata": {},
   "outputs": [
    {
     "data": {
      "text/html": [
       "<div>\n",
       "<style scoped>\n",
       "    .dataframe tbody tr th:only-of-type {\n",
       "        vertical-align: middle;\n",
       "    }\n",
       "\n",
       "    .dataframe tbody tr th {\n",
       "        vertical-align: top;\n",
       "    }\n",
       "\n",
       "    .dataframe thead th {\n",
       "        text-align: right;\n",
       "    }\n",
       "</style>\n",
       "<table border=\"1\" class=\"dataframe\">\n",
       "  <thead>\n",
       "    <tr style=\"text-align: right;\">\n",
       "      <th></th>\n",
       "      <th>user</th>\n",
       "      <th>movie</th>\n",
       "      <th>prediction</th>\n",
       "    </tr>\n",
       "  </thead>\n",
       "  <tbody>\n",
       "    <tr>\n",
       "      <th>count</th>\n",
       "      <td>200209.000000</td>\n",
       "      <td>200209.000000</td>\n",
       "      <td>200209.000000</td>\n",
       "    </tr>\n",
       "    <tr>\n",
       "      <th>mean</th>\n",
       "      <td>1511.751225</td>\n",
       "      <td>1930.586682</td>\n",
       "      <td>3.470090</td>\n",
       "    </tr>\n",
       "    <tr>\n",
       "      <th>std</th>\n",
       "      <td>1582.930564</td>\n",
       "      <td>1129.670350</td>\n",
       "      <td>0.492745</td>\n",
       "    </tr>\n",
       "    <tr>\n",
       "      <th>min</th>\n",
       "      <td>1.000000</td>\n",
       "      <td>1.000000</td>\n",
       "      <td>0.549139</td>\n",
       "    </tr>\n",
       "    <tr>\n",
       "      <th>25%</th>\n",
       "      <td>331.000000</td>\n",
       "      <td>1046.000000</td>\n",
       "      <td>3.390189</td>\n",
       "    </tr>\n",
       "    <tr>\n",
       "      <th>50%</th>\n",
       "      <td>752.000000</td>\n",
       "      <td>1946.000000</td>\n",
       "      <td>3.590479</td>\n",
       "    </tr>\n",
       "    <tr>\n",
       "      <th>75%</th>\n",
       "      <td>2131.000000</td>\n",
       "      <td>2890.000000</td>\n",
       "      <td>3.590479</td>\n",
       "    </tr>\n",
       "    <tr>\n",
       "      <th>max</th>\n",
       "      <td>6040.000000</td>\n",
       "      <td>3952.000000</td>\n",
       "      <td>5.541839</td>\n",
       "    </tr>\n",
       "  </tbody>\n",
       "</table>\n",
       "</div>"
      ],
      "text/plain": [
       "                user          movie     prediction\n",
       "count  200209.000000  200209.000000  200209.000000\n",
       "mean     1511.751225    1930.586682       3.470090\n",
       "std      1582.930564    1129.670350       0.492745\n",
       "min         1.000000       1.000000       0.549139\n",
       "25%       331.000000    1046.000000       3.390189\n",
       "50%       752.000000    1946.000000       3.590479\n",
       "75%      2131.000000    2890.000000       3.590479\n",
       "max      6040.000000    3952.000000       5.541839"
      ]
     },
     "execution_count": 18,
     "metadata": {},
     "output_type": "execute_result"
    }
   ],
   "source": [
    "predictions_pandas.describe()"
   ]
  },
  {
   "cell_type": "markdown",
   "metadata": {},
   "source": [
    "#### To fulfill requirement, change the 'prediction' column name to 'rating'"
   ]
  },
  {
   "cell_type": "code",
   "execution_count": 21,
   "metadata": {},
   "outputs": [],
   "source": [
    "predictions_pandas.rename(columns={'prediction':'rating'}, inplace=True)"
   ]
  },
  {
   "cell_type": "code",
   "execution_count": 22,
   "metadata": {},
   "outputs": [
    {
     "data": {
      "text/html": [
       "<div>\n",
       "<style scoped>\n",
       "    .dataframe tbody tr th:only-of-type {\n",
       "        vertical-align: middle;\n",
       "    }\n",
       "\n",
       "    .dataframe tbody tr th {\n",
       "        vertical-align: top;\n",
       "    }\n",
       "\n",
       "    .dataframe thead th {\n",
       "        text-align: right;\n",
       "    }\n",
       "</style>\n",
       "<table border=\"1\" class=\"dataframe\">\n",
       "  <thead>\n",
       "    <tr style=\"text-align: right;\">\n",
       "      <th></th>\n",
       "      <th>user</th>\n",
       "      <th>movie</th>\n",
       "      <th>rating</th>\n",
       "    </tr>\n",
       "  </thead>\n",
       "  <tbody>\n",
       "    <tr>\n",
       "      <th>0</th>\n",
       "      <td>53</td>\n",
       "      <td>148</td>\n",
       "      <td>3.590479</td>\n",
       "    </tr>\n",
       "    <tr>\n",
       "      <th>1</th>\n",
       "      <td>4169</td>\n",
       "      <td>148</td>\n",
       "      <td>3.118960</td>\n",
       "    </tr>\n",
       "    <tr>\n",
       "      <th>2</th>\n",
       "      <td>5333</td>\n",
       "      <td>148</td>\n",
       "      <td>2.497073</td>\n",
       "    </tr>\n",
       "    <tr>\n",
       "      <th>3</th>\n",
       "      <td>4387</td>\n",
       "      <td>148</td>\n",
       "      <td>2.336798</td>\n",
       "    </tr>\n",
       "    <tr>\n",
       "      <th>4</th>\n",
       "      <td>840</td>\n",
       "      <td>148</td>\n",
       "      <td>2.620513</td>\n",
       "    </tr>\n",
       "    <tr>\n",
       "      <th>...</th>\n",
       "      <td>...</td>\n",
       "      <td>...</td>\n",
       "      <td>...</td>\n",
       "    </tr>\n",
       "    <tr>\n",
       "      <th>200204</th>\n",
       "      <td>3371</td>\n",
       "      <td>3910</td>\n",
       "      <td>3.788533</td>\n",
       "    </tr>\n",
       "    <tr>\n",
       "      <th>200205</th>\n",
       "      <td>1851</td>\n",
       "      <td>3910</td>\n",
       "      <td>3.258385</td>\n",
       "    </tr>\n",
       "    <tr>\n",
       "      <th>200206</th>\n",
       "      <td>5198</td>\n",
       "      <td>3910</td>\n",
       "      <td>3.634098</td>\n",
       "    </tr>\n",
       "    <tr>\n",
       "      <th>200207</th>\n",
       "      <td>1584</td>\n",
       "      <td>3910</td>\n",
       "      <td>3.147473</td>\n",
       "    </tr>\n",
       "    <tr>\n",
       "      <th>200208</th>\n",
       "      <td>1246</td>\n",
       "      <td>3910</td>\n",
       "      <td>3.535986</td>\n",
       "    </tr>\n",
       "  </tbody>\n",
       "</table>\n",
       "<p>200209 rows × 3 columns</p>\n",
       "</div>"
      ],
      "text/plain": [
       "        user  movie    rating\n",
       "0         53    148  3.590479\n",
       "1       4169    148  3.118960\n",
       "2       5333    148  2.497073\n",
       "3       4387    148  2.336798\n",
       "4        840    148  2.620513\n",
       "...      ...    ...       ...\n",
       "200204  3371   3910  3.788533\n",
       "200205  1851   3910  3.258385\n",
       "200206  5198   3910  3.634098\n",
       "200207  1584   3910  3.147473\n",
       "200208  1246   3910  3.535986\n",
       "\n",
       "[200209 rows x 3 columns]"
      ]
     },
     "execution_count": 22,
     "metadata": {},
     "output_type": "execute_result"
    }
   ],
   "source": [
    "predictions_pandas"
   ]
  },
  {
   "cell_type": "markdown",
   "metadata": {},
   "source": [
    "#### Save this as a CSV into submissions folder as \"als_mean.csv\""
   ]
  },
  {
   "cell_type": "code",
   "execution_count": 24,
   "metadata": {},
   "outputs": [],
   "source": [
    "predictions_pandas.to_csv('submissions/als_mean.csv', index=False)"
   ]
  },
  {
   "cell_type": "code",
   "execution_count": 25,
   "metadata": {},
   "outputs": [
    {
     "data": {
      "text/html": [
       "<div>\n",
       "<style scoped>\n",
       "    .dataframe tbody tr th:only-of-type {\n",
       "        vertical-align: middle;\n",
       "    }\n",
       "\n",
       "    .dataframe tbody tr th {\n",
       "        vertical-align: top;\n",
       "    }\n",
       "\n",
       "    .dataframe thead th {\n",
       "        text-align: right;\n",
       "    }\n",
       "</style>\n",
       "<table border=\"1\" class=\"dataframe\">\n",
       "  <thead>\n",
       "    <tr style=\"text-align: right;\">\n",
       "      <th></th>\n",
       "      <th>user</th>\n",
       "      <th>movie</th>\n",
       "      <th>rating</th>\n",
       "    </tr>\n",
       "  </thead>\n",
       "  <tbody>\n",
       "    <tr>\n",
       "      <th>0</th>\n",
       "      <td>53</td>\n",
       "      <td>148</td>\n",
       "      <td>3.590479</td>\n",
       "    </tr>\n",
       "    <tr>\n",
       "      <th>1</th>\n",
       "      <td>4169</td>\n",
       "      <td>148</td>\n",
       "      <td>3.118960</td>\n",
       "    </tr>\n",
       "    <tr>\n",
       "      <th>2</th>\n",
       "      <td>5333</td>\n",
       "      <td>148</td>\n",
       "      <td>2.497073</td>\n",
       "    </tr>\n",
       "    <tr>\n",
       "      <th>3</th>\n",
       "      <td>4387</td>\n",
       "      <td>148</td>\n",
       "      <td>2.336798</td>\n",
       "    </tr>\n",
       "    <tr>\n",
       "      <th>4</th>\n",
       "      <td>840</td>\n",
       "      <td>148</td>\n",
       "      <td>2.620513</td>\n",
       "    </tr>\n",
       "    <tr>\n",
       "      <th>...</th>\n",
       "      <td>...</td>\n",
       "      <td>...</td>\n",
       "      <td>...</td>\n",
       "    </tr>\n",
       "    <tr>\n",
       "      <th>200204</th>\n",
       "      <td>3371</td>\n",
       "      <td>3910</td>\n",
       "      <td>3.788533</td>\n",
       "    </tr>\n",
       "    <tr>\n",
       "      <th>200205</th>\n",
       "      <td>1851</td>\n",
       "      <td>3910</td>\n",
       "      <td>3.258385</td>\n",
       "    </tr>\n",
       "    <tr>\n",
       "      <th>200206</th>\n",
       "      <td>5198</td>\n",
       "      <td>3910</td>\n",
       "      <td>3.634098</td>\n",
       "    </tr>\n",
       "    <tr>\n",
       "      <th>200207</th>\n",
       "      <td>1584</td>\n",
       "      <td>3910</td>\n",
       "      <td>3.147473</td>\n",
       "    </tr>\n",
       "    <tr>\n",
       "      <th>200208</th>\n",
       "      <td>1246</td>\n",
       "      <td>3910</td>\n",
       "      <td>3.535986</td>\n",
       "    </tr>\n",
       "  </tbody>\n",
       "</table>\n",
       "<p>200209 rows × 3 columns</p>\n",
       "</div>"
      ],
      "text/plain": [
       "        user  movie    rating\n",
       "0         53    148  3.590479\n",
       "1       4169    148  3.118960\n",
       "2       5333    148  2.497073\n",
       "3       4387    148  2.336798\n",
       "4        840    148  2.620513\n",
       "...      ...    ...       ...\n",
       "200204  3371   3910  3.788533\n",
       "200205  1851   3910  3.258385\n",
       "200206  5198   3910  3.634098\n",
       "200207  1584   3910  3.147473\n",
       "200208  1246   3910  3.535986\n",
       "\n",
       "[200209 rows x 3 columns]"
      ]
     },
     "execution_count": 25,
     "metadata": {},
     "output_type": "execute_result"
    }
   ],
   "source": [
    "predictions_pandas"
   ]
  },
  {
   "cell_type": "code",
   "execution_count": 30,
   "metadata": {},
   "outputs": [
    {
     "data": {
      "text/html": [
       "<div>\n",
       "<style scoped>\n",
       "    .dataframe tbody tr th:only-of-type {\n",
       "        vertical-align: middle;\n",
       "    }\n",
       "\n",
       "    .dataframe tbody tr th {\n",
       "        vertical-align: top;\n",
       "    }\n",
       "\n",
       "    .dataframe thead th {\n",
       "        text-align: right;\n",
       "    }\n",
       "</style>\n",
       "<table border=\"1\" class=\"dataframe\">\n",
       "  <thead>\n",
       "    <tr style=\"text-align: right;\">\n",
       "      <th></th>\n",
       "      <th>user</th>\n",
       "      <th>movie</th>\n",
       "      <th>rating</th>\n",
       "    </tr>\n",
       "  </thead>\n",
       "  <tbody>\n",
       "    <tr>\n",
       "      <th>0</th>\n",
       "      <td>6040</td>\n",
       "      <td>858</td>\n",
       "      <td>4</td>\n",
       "    </tr>\n",
       "  </tbody>\n",
       "</table>\n",
       "</div>"
      ],
      "text/plain": [
       "   user  movie  rating\n",
       "0  6040    858       4"
      ]
     },
     "execution_count": 30,
     "metadata": {},
     "output_type": "execute_result"
    }
   ],
   "source": [
    "training.head(1)"
   ]
  },
  {
   "cell_type": "code",
   "execution_count": 26,
   "metadata": {},
   "outputs": [],
   "source": [
    "preds = predictions.toPandas()"
   ]
  },
  {
   "cell_type": "code",
   "execution_count": 29,
   "metadata": {},
   "outputs": [],
   "source": [
    "users = preds['user'].unique()\n",
    "movies = preds['movie'].unique()"
   ]
  },
  {
   "cell_type": "code",
   "execution_count": 31,
   "metadata": {},
   "outputs": [],
   "source": [
    "unseen_users = []\n",
    "for each_user in users:\n",
    "    if training[training['user']==each_user].shape[0]==0:\n",
    "        unseen_users.append(each_user)"
   ]
  },
  {
   "cell_type": "code",
   "execution_count": 33,
   "metadata": {},
   "outputs": [
    {
     "data": {
      "text/plain": [
       "641"
      ]
     },
     "execution_count": 33,
     "metadata": {},
     "output_type": "execute_result"
    }
   ],
   "source": [
    "len(unseen_users)"
   ]
  },
  {
   "cell_type": "code",
   "execution_count": 37,
   "metadata": {},
   "outputs": [
    {
     "data": {
      "text/plain": [
       "402"
      ]
     },
     "execution_count": 37,
     "metadata": {},
     "output_type": "execute_result"
    }
   ],
   "source": [
    "unseen_users[25]"
   ]
  },
  {
   "cell_type": "code",
   "execution_count": 34,
   "metadata": {},
   "outputs": [],
   "source": [
    "unseen_movies = []\n",
    "for each_movie in movies:\n",
    "    if training[training['movie']==each_movie].shape[0]==0:\n",
    "        unseen_movies.append(each_movie)"
   ]
  },
  {
   "cell_type": "code",
   "execution_count": 35,
   "metadata": {},
   "outputs": [
    {
     "data": {
      "text/plain": [
       "44"
      ]
     },
     "execution_count": 35,
     "metadata": {},
     "output_type": "execute_result"
    }
   ],
   "source": [
    "len(unseen_movies)"
   ]
  },
  {
   "cell_type": "code",
   "execution_count": null,
   "metadata": {},
   "outputs": [],
   "source": []
  }
 ],
 "metadata": {
  "kernelspec": {
   "display_name": "Python 3",
   "language": "python",
   "name": "python3"
  },
  "language_info": {
   "codemirror_mode": {
    "name": "ipython",
    "version": 3
   },
   "file_extension": ".py",
   "mimetype": "text/x-python",
   "name": "python",
   "nbconvert_exporter": "python",
   "pygments_lexer": "ipython3",
   "version": "3.7.6"
  }
 },
 "nbformat": 4,
 "nbformat_minor": 4
}
