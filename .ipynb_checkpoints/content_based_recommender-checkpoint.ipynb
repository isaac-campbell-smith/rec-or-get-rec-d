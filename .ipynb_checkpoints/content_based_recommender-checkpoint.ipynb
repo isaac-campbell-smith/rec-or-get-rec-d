{
 "cells": [
  {
   "cell_type": "code",
   "execution_count": 2,
   "metadata": {},
   "outputs": [],
   "source": [
    "import pandas as pd\n",
    "import numpy as np\n",
    "import matplotlib.pyplot as plt\n",
    "plt.style.use('ggplot')\n",
    "%matplotlib inline\n",
    "\n",
    "#from rake_nltk import Rake\n",
    "from sklearn.metrics.pairwise import cosine_similarity\n",
    "from sklearn.feature_extraction.text import CountVectorizer, TfidfVectorizer\n",
    "\n",
    "#from src.item_recommender import ItemRecommender\n",
    "\n",
    "import re"
   ]
  },
  {
   "cell_type": "code",
   "execution_count": 3,
   "metadata": {},
   "outputs": [],
   "source": [
    "# Read in the training file as RATINGS\n",
    "ratings = pd.read_csv('data/training.csv')\n",
    "# Convert timestamp to datetime\n",
    "ratings['timestamp'] = pd.to_datetime(ratings['timestamp'], unit='s')"
   ]
  },
  {
   "cell_type": "code",
   "execution_count": 4,
   "metadata": {},
   "outputs": [],
   "source": [
    "# Create a TRAINING and VALIDATION set. validation set will be the\n",
    "# last 20% of the training set, ordered by date\n",
    "ratings = ratings.sort_values(by='timestamp').reset_index(drop=True)\n",
    "training = ratings.loc[:len(ratings)*.8-1, :].copy()\n",
    "validation = ratings.loc[len(ratings)*.8:, :].copy()"
   ]
  },
  {
   "cell_type": "code",
   "execution_count": 5,
   "metadata": {},
   "outputs": [],
   "source": [
    "# Load in USERS\n",
    "users = pd.read_table('data/users.dat', delimiter='::', header=None, \n",
    "                      names=['user', 'sex', 'age', 'occupation', 'zip_code'], \n",
    "                      engine='python')"
   ]
  },
  {
   "cell_type": "code",
   "execution_count": 54,
   "metadata": {},
   "outputs": [
    {
     "data": {
      "text/html": [
       "<div>\n",
       "<style scoped>\n",
       "    .dataframe tbody tr th:only-of-type {\n",
       "        vertical-align: middle;\n",
       "    }\n",
       "\n",
       "    .dataframe tbody tr th {\n",
       "        vertical-align: top;\n",
       "    }\n",
       "\n",
       "    .dataframe thead th {\n",
       "        text-align: right;\n",
       "    }\n",
       "</style>\n",
       "<table border=\"1\" class=\"dataframe\">\n",
       "  <thead>\n",
       "    <tr style=\"text-align: right;\">\n",
       "      <th></th>\n",
       "      <th>movie</th>\n",
       "      <th>movie_title</th>\n",
       "      <th>genre</th>\n",
       "    </tr>\n",
       "  </thead>\n",
       "  <tbody>\n",
       "    <tr>\n",
       "      <th>0</th>\n",
       "      <td>1</td>\n",
       "      <td>Toy Story (1995)</td>\n",
       "      <td>Animation,Children's,Comedy</td>\n",
       "    </tr>\n",
       "  </tbody>\n",
       "</table>\n",
       "</div>"
      ],
      "text/plain": [
       "   movie       movie_title                        genre\n",
       "0      1  Toy Story (1995)  Animation,Children's,Comedy"
      ]
     },
     "execution_count": 54,
     "metadata": {},
     "output_type": "execute_result"
    }
   ],
   "source": [
    "# Load in MOVIES\n",
    "movies = pd.read_table('data/movies.dat', delimiter='::', header=None, \n",
    "                       names=['movie', 'movie_title', 'genre'], \n",
    "                       engine='python')\n",
    "movies['genre'] = movies['genre'].apply(lambda x: x.split(\"|\"))\n",
    "# Convert genre to a bag of words\n",
    "movies['genre'] = [','.join(map(str,l)) for l in movies['genre']]\n",
    "movies.head(1)"
   ]
  },
  {
   "cell_type": "markdown",
   "metadata": {},
   "source": [
    "## Count Vectorizer"
   ]
  },
  {
   "cell_type": "code",
   "execution_count": 61,
   "metadata": {},
   "outputs": [],
   "source": [
    "# instantiating and generating the count matrix\n",
    "count = CountVectorizer()\n",
    "count_matrix = count.fit_transform(movies['genre'])\n",
    "indices = pd.Series(movies.movie_title)"
   ]
  },
  {
   "cell_type": "code",
   "execution_count": 62,
   "metadata": {},
   "outputs": [],
   "source": [
    "class ItemRecommender():\n",
    "    '''\n",
    "    Content based item recommender\n",
    "    '''\n",
    "    def __init__(self, similarity_measure=None):\n",
    "        self.similarity_matrix = None\n",
    "        self.item_names = None\n",
    "\n",
    "        if similarity_measure == None:\n",
    "            self.similarity_measure = cosine_similarity\n",
    "        else:\n",
    "            self.similarity_measure = similarity_measure\n",
    "\n",
    "    \n",
    "    def fit(self, X, index=None):\n",
    "        '''\n",
    "        Takes a numpy array of the item attributes and creates the similarity matrix\n",
    "\n",
    "        INPUT -\n",
    "            X: NUMPY ARRAY - Rows are items, columns are feature values / or DF\n",
    "            index: LIST - List of the item names/titles in order of the numpy arrray\n",
    "        \n",
    "        OUTPUT - None\n",
    "\n",
    "\n",
    "        Notes:  You might want to keep titles and X as attributes to refer to them later\n",
    "\n",
    "        Create the a similarity matrix of item to item similarity\n",
    "        '''\n",
    "\n",
    "        # While keeping this as a sparse matrix would be best the cosign sim\n",
    "        # function returns a array so there is no reason.\n",
    "        \n",
    "        if isinstance(X, pd.DataFrame):\n",
    "            self.item_counts = X\n",
    "            self.item_names = X.index\n",
    "            self.similarity_df = pd.DataFrame(self.similarity_measure(X.values, X.values),\n",
    "                 index = self.item_names)\n",
    "        else:\n",
    "            self.item_counts = X\n",
    "            self.similarity_df = pd.DataFrame(self.similarity_measure(X, X),\n",
    "                 index = index)\n",
    "            self.item_names = self.similarity_df.index\n",
    "\n",
    "        \n",
    "    def get_recommendations(self, item, n=5):\n",
    "        '''\n",
    "        Returns the top n items related to the item passed in\n",
    "        INPUT:\n",
    "            item    - STRING - Name of item in the original DataFrame \n",
    "            n       - INT    - Number of top related items to return \n",
    "        OUTPUT:\n",
    "            items - List of the top n related item names\n",
    "\n",
    "        For a given item find the n most similar items to it (this can be done using the similarity matrix created in the fit method)\n",
    "        '''\n",
    "        return self.item_names[self.similarity_df.loc[item].values.argsort()[-(n+1):-1]].values[::-1]\n",
    "\n",
    "\n",
    "    def get_user_profile(self, items):\n",
    "        '''\n",
    "        Takes a list of items and returns a user profile. A vector representing the likes of the user.\n",
    "        INPUT: \n",
    "            items  -   LIST - list of movie names user likes / has seen\n",
    "\n",
    "        OUTPUT: \n",
    "            user_profile - NP ARRAY - array representing the likes of the user \n",
    "                    The columns of this will match the columns of the trained on matrix\n",
    "    \n",
    "\n",
    "        Using the list of items liked by the user create a profile which will be a 1 x number of features array.  This should be the addition of the values for all liked item features (you can choose how to normalize if you think it is needed)\n",
    "        '''\n",
    "        user_profile = np.zeros(self.item_counts.shape[1])\n",
    "        for item in items:\n",
    "            user_profile += self.item_counts.loc[item].values\n",
    "\n",
    "        return user_profile\n",
    "\n",
    "\n",
    "    def get_user_recommendation(self, items, n=5):\n",
    "        '''\n",
    "        Takes a list of movies user liked and returns the top n items for that user\n",
    "\n",
    "        INPUT \n",
    "            items  -   LIST - list of movie names user likes / has seen\n",
    "            n -  INT - number of items to return\n",
    "\n",
    "        OUTPUT \n",
    "            items - LIST - n recommended items\n",
    "\n",
    "    \n",
    "        Make use of the get_user_profile method to create a user profile that will be used to get the similarity to all items and recommend the top n.\n",
    "        '''\n",
    "        num_items = len(items)\n",
    "        user_profile = self.get_user_profile(items)\n",
    "\n",
    "        user_sim =  self.similarity_measure(self.item_counts, user_profile.reshape(1,-1))\n",
    "\n",
    "        return self.item_names[user_sim[:,0].argsort()[-(num_items+n):-num_items]].values[::-1]"
   ]
  },
  {
   "cell_type": "code",
   "execution_count": 63,
   "metadata": {},
   "outputs": [],
   "source": [
    "rec = ItemRecommender()\n",
    "count_df = pd.DataFrame(count_matrix.todense(), index=indices.values)"
   ]
  },
  {
   "cell_type": "code",
   "execution_count": 64,
   "metadata": {},
   "outputs": [],
   "source": [
    "rec.fit(count_df)"
   ]
  },
  {
   "cell_type": "code",
   "execution_count": 67,
   "metadata": {},
   "outputs": [
    {
     "name": "stdout",
     "output_type": "stream",
     "text": [
      "['Rugrats Movie, The (1998)' 'Chicken Run (2000)' 'Saludos Amigos (1943)'\n",
      " 'American Tail, An (1986)' 'American Tail: Fievel Goes West, An (1991)'\n",
      " \"Bug's Life, A (1998)\" 'Adventures of Rocky and Bullwinkle, The (2000)'\n",
      " 'Aladdin and the King of Thieves (1996)' 'Toy Story 2 (1999)'\n",
      " 'Goofy Movie, A (1995)']\n"
     ]
    }
   ],
   "source": [
    "print(rec.get_recommendations('Toy Story (1995)', n=10))"
   ]
  },
  {
   "cell_type": "markdown",
   "metadata": {},
   "source": [
    "## TFIDF"
   ]
  },
  {
   "cell_type": "code",
   "execution_count": 84,
   "metadata": {},
   "outputs": [],
   "source": [
    "tf = TfidfVectorizer(analyzer='word',ngram_range=(1, 2),min_df=0, stop_words='english')\n",
    "tfidf_matrix = tf.fit_transform(movies['genre'])\n",
    "indices = pd.Series(movies.movie)"
   ]
  },
  {
   "cell_type": "code",
   "execution_count": 85,
   "metadata": {},
   "outputs": [],
   "source": [
    "rec_tfidf = ItemRecommender()\n",
    "tfidf_df = pd.DataFrame(tfidf_matrix.todense(), index=indices.values)"
   ]
  },
  {
   "cell_type": "code",
   "execution_count": 86,
   "metadata": {},
   "outputs": [],
   "source": [
    "rec_tfidf.fit(tfidf_df)"
   ]
  },
  {
   "cell_type": "code",
   "execution_count": 89,
   "metadata": {},
   "outputs": [
    {
     "name": "stdout",
     "output_type": "stream",
     "text": [
      "[ 822 3350 2588  375 3347 2590 2592  827  826  824]\n"
     ]
    }
   ],
   "source": [
    "print(rec_tfidf.get_recommendations(148, n=10))"
   ]
  },
  {
   "cell_type": "markdown",
   "metadata": {},
   "source": [
    "### Load in the ALS model's yhat_validation set"
   ]
  },
  {
   "cell_type": "code",
   "execution_count": 82,
   "metadata": {},
   "outputs": [],
   "source": [
    "yhat_validation_als = pd.read_csv('data/yhat_validation_df_ALS.csv')"
   ]
  },
  {
   "cell_type": "code",
   "execution_count": 83,
   "metadata": {},
   "outputs": [
    {
     "data": {
      "text/html": [
       "<div>\n",
       "<style scoped>\n",
       "    .dataframe tbody tr th:only-of-type {\n",
       "        vertical-align: middle;\n",
       "    }\n",
       "\n",
       "    .dataframe tbody tr th {\n",
       "        vertical-align: top;\n",
       "    }\n",
       "\n",
       "    .dataframe thead th {\n",
       "        text-align: right;\n",
       "    }\n",
       "</style>\n",
       "<table border=\"1\" class=\"dataframe\">\n",
       "  <thead>\n",
       "    <tr style=\"text-align: right;\">\n",
       "      <th></th>\n",
       "      <th>user</th>\n",
       "      <th>movie</th>\n",
       "      <th>rating</th>\n",
       "      <th>timestamp</th>\n",
       "      <th>prediction</th>\n",
       "    </tr>\n",
       "  </thead>\n",
       "  <tbody>\n",
       "    <tr>\n",
       "      <th>0</th>\n",
       "      <td>673</td>\n",
       "      <td>148</td>\n",
       "      <td>5</td>\n",
       "      <td>2000-11-30 21:47:04</td>\n",
       "      <td>NaN</td>\n",
       "    </tr>\n",
       "    <tr>\n",
       "      <th>1</th>\n",
       "      <td>1242</td>\n",
       "      <td>148</td>\n",
       "      <td>3</td>\n",
       "      <td>2000-11-22 16:19:36</td>\n",
       "      <td>NaN</td>\n",
       "    </tr>\n",
       "    <tr>\n",
       "      <th>2</th>\n",
       "      <td>1069</td>\n",
       "      <td>148</td>\n",
       "      <td>2</td>\n",
       "      <td>2000-11-23 02:05:35</td>\n",
       "      <td>NaN</td>\n",
       "    </tr>\n",
       "    <tr>\n",
       "      <th>3</th>\n",
       "      <td>1605</td>\n",
       "      <td>148</td>\n",
       "      <td>2</td>\n",
       "      <td>2000-11-22 21:57:01</td>\n",
       "      <td>2.220402</td>\n",
       "    </tr>\n",
       "    <tr>\n",
       "      <th>4</th>\n",
       "      <td>1150</td>\n",
       "      <td>148</td>\n",
       "      <td>2</td>\n",
       "      <td>2000-11-22 06:38:26</td>\n",
       "      <td>NaN</td>\n",
       "    </tr>\n",
       "  </tbody>\n",
       "</table>\n",
       "</div>"
      ],
      "text/plain": [
       "   user  movie  rating            timestamp  prediction\n",
       "0   673    148       5  2000-11-30 21:47:04         NaN\n",
       "1  1242    148       3  2000-11-22 16:19:36         NaN\n",
       "2  1069    148       2  2000-11-23 02:05:35         NaN\n",
       "3  1605    148       2  2000-11-22 21:57:01    2.220402\n",
       "4  1150    148       2  2000-11-22 06:38:26         NaN"
      ]
     },
     "execution_count": 83,
     "metadata": {},
     "output_type": "execute_result"
    }
   ],
   "source": [
    "yhat_validation_als.head()"
   ]
  },
  {
   "cell_type": "code",
   "execution_count": 93,
   "metadata": {},
   "outputs": [],
   "source": [
    "# For the first NaN, get the similar movies as that movie"
   ]
  },
  {
   "cell_type": "code",
   "execution_count": 118,
   "metadata": {},
   "outputs": [
    {
     "data": {
      "text/plain": [
       "array([ 822, 3350, 2588,  375, 3347])"
      ]
     },
     "execution_count": 118,
     "metadata": {},
     "output_type": "execute_result"
    }
   ],
   "source": [
    "similar_movies = rec_tfidf.get_recommendations(148, n=5)\n",
    "similar_movies"
   ]
  },
  {
   "cell_type": "code",
   "execution_count": 119,
   "metadata": {},
   "outputs": [],
   "source": [
    "# Then go through the top 10 similar movies and average them to get average for that type of movie"
   ]
  },
  {
   "cell_type": "code",
   "execution_count": 120,
   "metadata": {},
   "outputs": [
    {
     "name": "stdout",
     "output_type": "stream",
     "text": [
      "3.934156378600823\n"
     ]
    }
   ],
   "source": [
    "total = 0\n",
    "count = 0\n",
    "for each_movie in similar_movies:\n",
    "    if training[training['movie']==each_movie]['rating'].shape[0] != 0:\n",
    "        total += training[training['movie']==each_movie]['rating'].sum()\n",
    "        count += training[training['movie']==each_movie]['rating'].shape[0]\n",
    "print(total/count)"
   ]
  },
  {
   "cell_type": "markdown",
   "metadata": {},
   "source": [
    "Using this algorithm, we would have predicted a rating of 3.93, 1.05 off from the actual. Not great, not terrible."
   ]
  },
  {
   "cell_type": "code",
   "execution_count": 123,
   "metadata": {},
   "outputs": [],
   "source": [
    "# What about user recommendations?"
   ]
  },
  {
   "cell_type": "code",
   "execution_count": null,
   "metadata": {},
   "outputs": [],
   "source": [
    "# For the first NaN, get the user's movies that it has seen."
   ]
  },
  {
   "cell_type": "code",
   "execution_count": 129,
   "metadata": {},
   "outputs": [
    {
     "data": {
      "text/plain": [
       "array([ 166, 1273, 1276, 2685, 2684])"
      ]
     },
     "execution_count": 129,
     "metadata": {},
     "output_type": "execute_result"
    }
   ],
   "source": [
    "# What about getting a user profile?\n",
    "#profile = rec_tfidf.get_user_profile(['The Godfather','The Godfather: Part II'])\n",
    "\n",
    "rec_tfidf.get_user_recommendation(training[training['user']==1605]['movie'])"
   ]
  },
  {
   "cell_type": "code",
   "execution_count": 132,
   "metadata": {},
   "outputs": [
    {
     "data": {
      "text/html": [
       "<div>\n",
       "<style scoped>\n",
       "    .dataframe tbody tr th:only-of-type {\n",
       "        vertical-align: middle;\n",
       "    }\n",
       "\n",
       "    .dataframe tbody tr th {\n",
       "        vertical-align: top;\n",
       "    }\n",
       "\n",
       "    .dataframe thead th {\n",
       "        text-align: right;\n",
       "    }\n",
       "</style>\n",
       "<table border=\"1\" class=\"dataframe\">\n",
       "  <thead>\n",
       "    <tr style=\"text-align: right;\">\n",
       "      <th></th>\n",
       "      <th>user</th>\n",
       "      <th>movie</th>\n",
       "      <th>rating</th>\n",
       "      <th>timestamp</th>\n",
       "    </tr>\n",
       "  </thead>\n",
       "  <tbody>\n",
       "    <tr>\n",
       "      <th>1033</th>\n",
       "      <td>6036</td>\n",
       "      <td>1273</td>\n",
       "      <td>4</td>\n",
       "      <td>2000-04-26 01:59:15</td>\n",
       "    </tr>\n",
       "    <tr>\n",
       "      <th>6010</th>\n",
       "      <td>5990</td>\n",
       "      <td>1273</td>\n",
       "      <td>5</td>\n",
       "      <td>2000-04-27 20:50:13</td>\n",
       "    </tr>\n",
       "    <tr>\n",
       "      <th>8869</th>\n",
       "      <td>5966</td>\n",
       "      <td>1273</td>\n",
       "      <td>4</td>\n",
       "      <td>2000-04-29 02:28:05</td>\n",
       "    </tr>\n",
       "    <tr>\n",
       "      <th>12982</th>\n",
       "      <td>5937</td>\n",
       "      <td>1273</td>\n",
       "      <td>4</td>\n",
       "      <td>2000-05-01 20:53:39</td>\n",
       "    </tr>\n",
       "    <tr>\n",
       "      <th>24600</th>\n",
       "      <td>5848</td>\n",
       "      <td>1273</td>\n",
       "      <td>3</td>\n",
       "      <td>2000-05-08 10:37:36</td>\n",
       "    </tr>\n",
       "    <tr>\n",
       "      <th>...</th>\n",
       "      <td>...</td>\n",
       "      <td>...</td>\n",
       "      <td>...</td>\n",
       "      <td>...</td>\n",
       "    </tr>\n",
       "    <tr>\n",
       "      <th>627766</th>\n",
       "      <td>1699</td>\n",
       "      <td>1273</td>\n",
       "      <td>3</td>\n",
       "      <td>2000-11-20 09:12:22</td>\n",
       "    </tr>\n",
       "    <tr>\n",
       "      <th>628989</th>\n",
       "      <td>1671</td>\n",
       "      <td>1273</td>\n",
       "      <td>4</td>\n",
       "      <td>2000-11-20 09:24:38</td>\n",
       "    </tr>\n",
       "    <tr>\n",
       "      <th>630269</th>\n",
       "      <td>1680</td>\n",
       "      <td>1273</td>\n",
       "      <td>2</td>\n",
       "      <td>2000-11-20 09:48:27</td>\n",
       "    </tr>\n",
       "    <tr>\n",
       "      <th>632516</th>\n",
       "      <td>1658</td>\n",
       "      <td>1273</td>\n",
       "      <td>5</td>\n",
       "      <td>2000-11-20 10:37:12</td>\n",
       "    </tr>\n",
       "    <tr>\n",
       "      <th>637846</th>\n",
       "      <td>1607</td>\n",
       "      <td>1273</td>\n",
       "      <td>3</td>\n",
       "      <td>2000-11-20 15:28:13</td>\n",
       "    </tr>\n",
       "  </tbody>\n",
       "</table>\n",
       "<p>104 rows × 4 columns</p>\n",
       "</div>"
      ],
      "text/plain": [
       "        user  movie  rating           timestamp\n",
       "1033    6036   1273       4 2000-04-26 01:59:15\n",
       "6010    5990   1273       5 2000-04-27 20:50:13\n",
       "8869    5966   1273       4 2000-04-29 02:28:05\n",
       "12982   5937   1273       4 2000-05-01 20:53:39\n",
       "24600   5848   1273       3 2000-05-08 10:37:36\n",
       "...      ...    ...     ...                 ...\n",
       "627766  1699   1273       3 2000-11-20 09:12:22\n",
       "628989  1671   1273       4 2000-11-20 09:24:38\n",
       "630269  1680   1273       2 2000-11-20 09:48:27\n",
       "632516  1658   1273       5 2000-11-20 10:37:12\n",
       "637846  1607   1273       3 2000-11-20 15:28:13\n",
       "\n",
       "[104 rows x 4 columns]"
      ]
     },
     "execution_count": 132,
     "metadata": {},
     "output_type": "execute_result"
    }
   ],
   "source": [
    "training[training['movie']==1273]"
   ]
  },
  {
   "cell_type": "code",
   "execution_count": 135,
   "metadata": {},
   "outputs": [
    {
     "data": {
      "text/html": [
       "<div>\n",
       "<style scoped>\n",
       "    .dataframe tbody tr th:only-of-type {\n",
       "        vertical-align: middle;\n",
       "    }\n",
       "\n",
       "    .dataframe tbody tr th {\n",
       "        vertical-align: top;\n",
       "    }\n",
       "\n",
       "    .dataframe thead th {\n",
       "        text-align: right;\n",
       "    }\n",
       "</style>\n",
       "<table border=\"1\" class=\"dataframe\">\n",
       "  <thead>\n",
       "    <tr style=\"text-align: right;\">\n",
       "      <th></th>\n",
       "      <th>user</th>\n",
       "      <th>sex</th>\n",
       "      <th>age</th>\n",
       "      <th>occupation</th>\n",
       "      <th>zip_code</th>\n",
       "    </tr>\n",
       "  </thead>\n",
       "  <tbody>\n",
       "    <tr>\n",
       "      <th>401</th>\n",
       "      <td>402</td>\n",
       "      <td>M</td>\n",
       "      <td>25</td>\n",
       "      <td>11</td>\n",
       "      <td>55427</td>\n",
       "    </tr>\n",
       "  </tbody>\n",
       "</table>\n",
       "</div>"
      ],
      "text/plain": [
       "     user sex  age  occupation zip_code\n",
       "401   402   M   25          11    55427"
      ]
     },
     "execution_count": 135,
     "metadata": {},
     "output_type": "execute_result"
    }
   ],
   "source": [
    "users[users['user']==402]"
   ]
  },
  {
   "cell_type": "code",
   "execution_count": null,
   "metadata": {},
   "outputs": [],
   "source": []
  }
 ],
 "metadata": {
  "kernelspec": {
   "display_name": "Python 3",
   "language": "python",
   "name": "python3"
  },
  "language_info": {
   "codemirror_mode": {
    "name": "ipython",
    "version": 3
   },
   "file_extension": ".py",
   "mimetype": "text/x-python",
   "name": "python",
   "nbconvert_exporter": "python",
   "pygments_lexer": "ipython3",
   "version": "3.7.7"
  }
 },
 "nbformat": 4,
 "nbformat_minor": 4
}
