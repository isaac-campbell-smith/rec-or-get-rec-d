{
 "cells": [
  {
   "cell_type": "code",
   "execution_count": 1,
   "metadata": {},
   "outputs": [],
   "source": [
    "import pandas as pd\n",
    "import numpy as np\n",
    "import matplotlib.pyplot as plt\n",
    "\n",
    "from pyspark.ml.recommendation import ALS\n",
    "\n",
    "from pyspark.sql.functions import lit\n",
    "from pyspark.sql.functions import isnan, when, count, col\n",
    "\n",
    "from pyspark.sql import SparkSession\n",
    "\n",
    "# Setup a SparkSession\n",
    "spark = SparkSession.builder.getOrCreate()"
   ]
  },
  {
   "cell_type": "code",
   "execution_count": 2,
   "metadata": {},
   "outputs": [],
   "source": [
    "# Load in movies and users data\n",
    "movies = pd.read_csv('data/movies.dat', delimiter='::', names=['movie_id', 'movie_title', 'genre'], index_col='movie_id', engine='python')\n",
    "users = pd.read_csv('data/users.dat', delimiter='::', names=['user_id', 'sex', 'age', 'occupation', 'zip_code' ], index_col='user_id', engine='python')"
   ]
  },
  {
   "cell_type": "code",
   "execution_count": 3,
   "metadata": {},
   "outputs": [],
   "source": [
    "# Load in ratings data\n",
    "ratings = pd.read_csv('data/training.csv')\n",
    "ratings['timestamp'] = pd.to_datetime(ratings['timestamp'], unit='s')"
   ]
  },
  {
   "cell_type": "code",
   "execution_count": 4,
   "metadata": {},
   "outputs": [],
   "source": [
    "# Create a TRAINING and VALIDATION set. validation set will be the\n",
    "# last 20% of the training set, ordered by date\n",
    "ratings = ratings.sort_values(by='timestamp').reset_index(drop=True)\n",
    "training = ratings.loc[:len(ratings)*.8-1, :].copy()\n",
    "validation = ratings.loc[len(ratings)*.8:, :].copy()"
   ]
  },
  {
   "cell_type": "code",
   "execution_count": 5,
   "metadata": {},
   "outputs": [],
   "source": [
    "training_df = spark.createDataFrame(training)"
   ]
  },
  {
   "cell_type": "code",
   "execution_count": 6,
   "metadata": {},
   "outputs": [],
   "source": [
    "validation_df = spark.createDataFrame(validation)"
   ]
  },
  {
   "cell_type": "markdown",
   "metadata": {},
   "source": [
    "### Create an untrained ALS model."
   ]
  },
  {
   "cell_type": "code",
   "execution_count": 7,
   "metadata": {},
   "outputs": [],
   "source": [
    "als_model = ALS(\n",
    "    itemCol='movie',\n",
    "    userCol='user',\n",
    "    ratingCol='rating',\n",
    "    nonnegative=True,    \n",
    "    regParam=0.1,\n",
    "    rank=10)"
   ]
  },
  {
   "cell_type": "code",
   "execution_count": 9,
   "metadata": {},
   "outputs": [],
   "source": [
    "# Train the ALS model. We'll call the trained model `recommender`.\n",
    "recommender = als_model.fit(training_df)"
   ]
  },
  {
   "cell_type": "code",
   "execution_count": 10,
   "metadata": {},
   "outputs": [],
   "source": [
    "# Get the training errors\n",
    "yhat_train = recommender.transform(training_df)"
   ]
  },
  {
   "cell_type": "code",
   "execution_count": 13,
   "metadata": {},
   "outputs": [
    {
     "name": "stdout",
     "output_type": "stream",
     "text": [
      "+-------+------------------+------------------+------------------+------------------+\n",
      "|summary|              user|             movie|            rating|        prediction|\n",
      "+-------+------------------+------------------+------------------+------------------+\n",
      "|  count|            640000|            640000|            640000|            640000|\n",
      "|   mean|   3932.6427484375|   1844.2703734375|      3.6065828125| 3.449572548599867|\n",
      "| stddev|1233.3827540229956|1082.5269074473076|1.1133907292659646|0.6634801750013999|\n",
      "|    min|              1572|                 1|                 1|        0.42859814|\n",
      "|    max|              6040|              3952|                 5|          5.477794|\n",
      "+-------+------------------+------------------+------------------+------------------+\n",
      "\n"
     ]
    }
   ],
   "source": [
    "yhat_train.describe().show()"
   ]
  },
  {
   "cell_type": "code",
   "execution_count": 14,
   "metadata": {},
   "outputs": [],
   "source": [
    "# Get the validation errors\n",
    "yhat_validation = recommender.transform(validation_df)"
   ]
  },
  {
   "cell_type": "code",
   "execution_count": 16,
   "metadata": {},
   "outputs": [
    {
     "name": "stdout",
     "output_type": "stream",
     "text": [
      "+----+-----+------+-------------------+----------+\n",
      "|user|movie|rating|          timestamp|prediction|\n",
      "+----+-----+------+-------------------+----------+\n",
      "| 673|  148|     5|2000-11-30 21:47:04|       NaN|\n",
      "|1242|  148|     3|2000-11-22 16:19:36|       NaN|\n",
      "|1069|  148|     2|2000-11-23 02:05:35|       NaN|\n",
      "|1605|  148|     2|2000-11-22 21:57:01| 2.2204018|\n",
      "|1150|  148|     2|2000-11-22 06:38:26|       NaN|\n",
      "| 660|  463|     3|2000-12-01 17:03:09|       NaN|\n",
      "|1069|  463|     2|2000-11-23 02:02:18|       NaN|\n",
      "|1146|  463|     2|2000-11-23 00:33:30|       NaN|\n",
      "| 746|  463|     1|2000-11-29 04:05:54|       NaN|\n",
      "|1980|  463|     2|2000-11-26 17:52:43| 2.3692527|\n",
      "|1395|  471|     5|2000-11-23 18:51:07|       NaN|\n",
      "|1303|  471|     4|2000-11-21 06:30:07|       NaN|\n",
      "|1199|  471|     3|2000-11-22 19:09:41|       NaN|\n",
      "|1404|  471|     3|2000-11-21 00:03:22|       NaN|\n",
      "|1441|  471|     5|2000-11-20 22:23:56|       NaN|\n",
      "|1496|  471|     2|2000-11-20 20:52:58|       NaN|\n",
      "|1156|  471|     3|2000-11-22 03:50:55|       NaN|\n",
      "| 731|  471|     5|2000-11-29 20:19:21|       NaN|\n",
      "|1019|  471|     4|2000-11-23 20:17:52|       NaN|\n",
      "|1294|  471|     4|2000-11-22 06:32:35|       NaN|\n",
      "+----+-----+------+-------------------+----------+\n",
      "only showing top 20 rows\n",
      "\n"
     ]
    }
   ],
   "source": [
    "yhat_validation.show()"
   ]
  },
  {
   "cell_type": "code",
   "execution_count": 15,
   "metadata": {},
   "outputs": [
    {
     "name": "stdout",
     "output_type": "stream",
     "text": [
      "+-------+-----------------+------------------+------------------+----------+\n",
      "|summary|             user|             movie|            rating|prediction|\n",
      "+-------+-----------------+------------------+------------------+----------+\n",
      "|  count|           160000|            160000|            160000|    160000|\n",
      "|   mean|    1284.91819375|      1869.2047875|         3.5260625|       NaN|\n",
      "| stddev|516.1356466463282|1103.7634605229894|1.1456347363305557|       NaN|\n",
      "|    min|              636|                 1|                 1| 0.4639782|\n",
      "|    max|             5996|              3952|                 5|       NaN|\n",
      "+-------+-----------------+------------------+------------------+----------+\n",
      "\n"
     ]
    }
   ],
   "source": [
    "yhat_validation.describe().show()"
   ]
  },
  {
   "cell_type": "markdown",
   "metadata": {},
   "source": [
    "Looks like we have NANs in the validation. Let's investigate that."
   ]
  },
  {
   "cell_type": "code",
   "execution_count": 17,
   "metadata": {},
   "outputs": [],
   "source": [
    "yhat_training_df = yhat_train.toPandas()\n",
    "yhat_validatin_df = yhat_validation.toPandas()"
   ]
  },
  {
   "cell_type": "code",
   "execution_count": 18,
   "metadata": {},
   "outputs": [
    {
     "data": {
      "text/html": [
       "<div>\n",
       "<style scoped>\n",
       "    .dataframe tbody tr th:only-of-type {\n",
       "        vertical-align: middle;\n",
       "    }\n",
       "\n",
       "    .dataframe tbody tr th {\n",
       "        vertical-align: top;\n",
       "    }\n",
       "\n",
       "    .dataframe thead th {\n",
       "        text-align: right;\n",
       "    }\n",
       "</style>\n",
       "<table border=\"1\" class=\"dataframe\">\n",
       "  <thead>\n",
       "    <tr style=\"text-align: right;\">\n",
       "      <th></th>\n",
       "      <th>user</th>\n",
       "      <th>movie</th>\n",
       "      <th>rating</th>\n",
       "      <th>timestamp</th>\n",
       "      <th>prediction</th>\n",
       "    </tr>\n",
       "  </thead>\n",
       "  <tbody>\n",
       "    <tr>\n",
       "      <th>0</th>\n",
       "      <td>4227</td>\n",
       "      <td>148</td>\n",
       "      <td>2</td>\n",
       "      <td>2000-08-07 14:48:44</td>\n",
       "      <td>2.116618</td>\n",
       "    </tr>\n",
       "    <tr>\n",
       "      <th>1</th>\n",
       "      <td>3184</td>\n",
       "      <td>148</td>\n",
       "      <td>4</td>\n",
       "      <td>2000-09-11 21:49:13</td>\n",
       "      <td>3.317677</td>\n",
       "    </tr>\n",
       "    <tr>\n",
       "      <th>2</th>\n",
       "      <td>4784</td>\n",
       "      <td>148</td>\n",
       "      <td>3</td>\n",
       "      <td>2000-09-26 20:36:10</td>\n",
       "      <td>2.891599</td>\n",
       "    </tr>\n",
       "    <tr>\n",
       "      <th>3</th>\n",
       "      <td>2383</td>\n",
       "      <td>148</td>\n",
       "      <td>2</td>\n",
       "      <td>2000-11-16 23:34:14</td>\n",
       "      <td>2.320556</td>\n",
       "    </tr>\n",
       "    <tr>\n",
       "      <th>4</th>\n",
       "      <td>3539</td>\n",
       "      <td>148</td>\n",
       "      <td>3</td>\n",
       "      <td>2000-08-22 08:20:08</td>\n",
       "      <td>2.761600</td>\n",
       "    </tr>\n",
       "    <tr>\n",
       "      <th>...</th>\n",
       "      <td>...</td>\n",
       "      <td>...</td>\n",
       "      <td>...</td>\n",
       "      <td>...</td>\n",
       "      <td>...</td>\n",
       "    </tr>\n",
       "    <tr>\n",
       "      <th>639995</th>\n",
       "      <td>1753</td>\n",
       "      <td>3910</td>\n",
       "      <td>4</td>\n",
       "      <td>2000-11-20 06:32:59</td>\n",
       "      <td>3.691639</td>\n",
       "    </tr>\n",
       "    <tr>\n",
       "      <th>639996</th>\n",
       "      <td>2825</td>\n",
       "      <td>3910</td>\n",
       "      <td>3</td>\n",
       "      <td>2000-11-02 09:10:54</td>\n",
       "      <td>3.840279</td>\n",
       "    </tr>\n",
       "    <tr>\n",
       "      <th>639997</th>\n",
       "      <td>5242</td>\n",
       "      <td>3910</td>\n",
       "      <td>1</td>\n",
       "      <td>2000-10-16 22:18:49</td>\n",
       "      <td>2.315363</td>\n",
       "    </tr>\n",
       "    <tr>\n",
       "      <th>639998</th>\n",
       "      <td>2507</td>\n",
       "      <td>3910</td>\n",
       "      <td>2</td>\n",
       "      <td>2000-11-13 01:04:25</td>\n",
       "      <td>3.993294</td>\n",
       "    </tr>\n",
       "    <tr>\n",
       "      <th>639999</th>\n",
       "      <td>2376</td>\n",
       "      <td>3910</td>\n",
       "      <td>5</td>\n",
       "      <td>2000-11-16 00:11:44</td>\n",
       "      <td>3.891344</td>\n",
       "    </tr>\n",
       "  </tbody>\n",
       "</table>\n",
       "<p>640000 rows × 5 columns</p>\n",
       "</div>"
      ],
      "text/plain": [
       "        user  movie  rating           timestamp  prediction\n",
       "0       4227    148       2 2000-08-07 14:48:44    2.116618\n",
       "1       3184    148       4 2000-09-11 21:49:13    3.317677\n",
       "2       4784    148       3 2000-09-26 20:36:10    2.891599\n",
       "3       2383    148       2 2000-11-16 23:34:14    2.320556\n",
       "4       3539    148       3 2000-08-22 08:20:08    2.761600\n",
       "...      ...    ...     ...                 ...         ...\n",
       "639995  1753   3910       4 2000-11-20 06:32:59    3.691639\n",
       "639996  2825   3910       3 2000-11-02 09:10:54    3.840279\n",
       "639997  5242   3910       1 2000-10-16 22:18:49    2.315363\n",
       "639998  2507   3910       2 2000-11-13 01:04:25    3.993294\n",
       "639999  2376   3910       5 2000-11-16 00:11:44    3.891344\n",
       "\n",
       "[640000 rows x 5 columns]"
      ]
     },
     "execution_count": 18,
     "metadata": {},
     "output_type": "execute_result"
    }
   ],
   "source": [
    "yhat_training_df"
   ]
  },
  {
   "cell_type": "code",
   "execution_count": 19,
   "metadata": {},
   "outputs": [
    {
     "data": {
      "text/html": [
       "<div>\n",
       "<style scoped>\n",
       "    .dataframe tbody tr th:only-of-type {\n",
       "        vertical-align: middle;\n",
       "    }\n",
       "\n",
       "    .dataframe tbody tr th {\n",
       "        vertical-align: top;\n",
       "    }\n",
       "\n",
       "    .dataframe thead th {\n",
       "        text-align: right;\n",
       "    }\n",
       "</style>\n",
       "<table border=\"1\" class=\"dataframe\">\n",
       "  <thead>\n",
       "    <tr style=\"text-align: right;\">\n",
       "      <th></th>\n",
       "      <th>user</th>\n",
       "      <th>movie</th>\n",
       "      <th>rating</th>\n",
       "      <th>timestamp</th>\n",
       "      <th>prediction</th>\n",
       "    </tr>\n",
       "  </thead>\n",
       "  <tbody>\n",
       "    <tr>\n",
       "      <th>0</th>\n",
       "      <td>673</td>\n",
       "      <td>148</td>\n",
       "      <td>5</td>\n",
       "      <td>2000-11-30 21:47:04</td>\n",
       "      <td>NaN</td>\n",
       "    </tr>\n",
       "    <tr>\n",
       "      <th>1</th>\n",
       "      <td>1242</td>\n",
       "      <td>148</td>\n",
       "      <td>3</td>\n",
       "      <td>2000-11-22 16:19:36</td>\n",
       "      <td>NaN</td>\n",
       "    </tr>\n",
       "    <tr>\n",
       "      <th>2</th>\n",
       "      <td>1069</td>\n",
       "      <td>148</td>\n",
       "      <td>2</td>\n",
       "      <td>2000-11-23 02:05:35</td>\n",
       "      <td>NaN</td>\n",
       "    </tr>\n",
       "    <tr>\n",
       "      <th>3</th>\n",
       "      <td>1605</td>\n",
       "      <td>148</td>\n",
       "      <td>2</td>\n",
       "      <td>2000-11-22 21:57:01</td>\n",
       "      <td>2.220402</td>\n",
       "    </tr>\n",
       "    <tr>\n",
       "      <th>4</th>\n",
       "      <td>1150</td>\n",
       "      <td>148</td>\n",
       "      <td>2</td>\n",
       "      <td>2000-11-22 06:38:26</td>\n",
       "      <td>NaN</td>\n",
       "    </tr>\n",
       "    <tr>\n",
       "      <th>...</th>\n",
       "      <td>...</td>\n",
       "      <td>...</td>\n",
       "      <td>...</td>\n",
       "      <td>...</td>\n",
       "      <td>...</td>\n",
       "    </tr>\n",
       "    <tr>\n",
       "      <th>159995</th>\n",
       "      <td>1067</td>\n",
       "      <td>3910</td>\n",
       "      <td>5</td>\n",
       "      <td>2000-11-23 02:02:44</td>\n",
       "      <td>NaN</td>\n",
       "    </tr>\n",
       "    <tr>\n",
       "      <th>159996</th>\n",
       "      <td>670</td>\n",
       "      <td>3910</td>\n",
       "      <td>4</td>\n",
       "      <td>2000-11-30 23:57:50</td>\n",
       "      <td>NaN</td>\n",
       "    </tr>\n",
       "    <tr>\n",
       "      <th>159997</th>\n",
       "      <td>745</td>\n",
       "      <td>3910</td>\n",
       "      <td>1</td>\n",
       "      <td>2000-11-29 02:58:12</td>\n",
       "      <td>NaN</td>\n",
       "    </tr>\n",
       "    <tr>\n",
       "      <th>159998</th>\n",
       "      <td>1138</td>\n",
       "      <td>3910</td>\n",
       "      <td>5</td>\n",
       "      <td>2000-11-22 07:06:19</td>\n",
       "      <td>NaN</td>\n",
       "    </tr>\n",
       "    <tr>\n",
       "      <th>159999</th>\n",
       "      <td>1413</td>\n",
       "      <td>3910</td>\n",
       "      <td>5</td>\n",
       "      <td>2000-11-20 23:04:53</td>\n",
       "      <td>NaN</td>\n",
       "    </tr>\n",
       "  </tbody>\n",
       "</table>\n",
       "<p>160000 rows × 5 columns</p>\n",
       "</div>"
      ],
      "text/plain": [
       "        user  movie  rating           timestamp  prediction\n",
       "0        673    148       5 2000-11-30 21:47:04         NaN\n",
       "1       1242    148       3 2000-11-22 16:19:36         NaN\n",
       "2       1069    148       2 2000-11-23 02:05:35         NaN\n",
       "3       1605    148       2 2000-11-22 21:57:01    2.220402\n",
       "4       1150    148       2 2000-11-22 06:38:26         NaN\n",
       "...      ...    ...     ...                 ...         ...\n",
       "159995  1067   3910       5 2000-11-23 02:02:44         NaN\n",
       "159996   670   3910       4 2000-11-30 23:57:50         NaN\n",
       "159997   745   3910       1 2000-11-29 02:58:12         NaN\n",
       "159998  1138   3910       5 2000-11-22 07:06:19         NaN\n",
       "159999  1413   3910       5 2000-11-20 23:04:53         NaN\n",
       "\n",
       "[160000 rows x 5 columns]"
      ]
     },
     "execution_count": 19,
     "metadata": {},
     "output_type": "execute_result"
    }
   ],
   "source": [
    "yhat_validatin_df"
   ]
  },
  {
   "cell_type": "code",
   "execution_count": 20,
   "metadata": {},
   "outputs": [],
   "source": [
    "count_nans_validation = yhat_validatin_df['prediction'].isna().sum()"
   ]
  },
  {
   "cell_type": "code",
   "execution_count": 23,
   "metadata": {},
   "outputs": [
    {
     "data": {
      "text/plain": [
       "0.792575"
      ]
     },
     "execution_count": 23,
     "metadata": {},
     "output_type": "execute_result"
    }
   ],
   "source": [
    "count_nans_validation / yhat_validatin_df.shape[0]"
   ]
  },
  {
   "cell_type": "markdown",
   "metadata": {},
   "source": [
    "80 PERCENT OF OUR PREDICTION IS NAN!!!"
   ]
  },
  {
   "cell_type": "markdown",
   "metadata": {},
   "source": [
    "Let's look at the ones that it did predict to get an idea of how it's doing."
   ]
  },
  {
   "cell_type": "code",
   "execution_count": 24,
   "metadata": {},
   "outputs": [],
   "source": [
    "yhat_validation_df_no_nans = yhat_validatin_df.dropna().copy()"
   ]
  },
  {
   "cell_type": "code",
   "execution_count": 26,
   "metadata": {},
   "outputs": [],
   "source": [
    "yhat_validation_df_no_nans['squared_error'] = (yhat_validation_df_no_nans['rating'] - yhat_validation_df_no_nans['prediction'])**2"
   ]
  },
  {
   "cell_type": "code",
   "execution_count": 27,
   "metadata": {},
   "outputs": [
    {
     "data": {
      "text/html": [
       "<div>\n",
       "<style scoped>\n",
       "    .dataframe tbody tr th:only-of-type {\n",
       "        vertical-align: middle;\n",
       "    }\n",
       "\n",
       "    .dataframe tbody tr th {\n",
       "        vertical-align: top;\n",
       "    }\n",
       "\n",
       "    .dataframe thead th {\n",
       "        text-align: right;\n",
       "    }\n",
       "</style>\n",
       "<table border=\"1\" class=\"dataframe\">\n",
       "  <thead>\n",
       "    <tr style=\"text-align: right;\">\n",
       "      <th></th>\n",
       "      <th>user</th>\n",
       "      <th>movie</th>\n",
       "      <th>rating</th>\n",
       "      <th>timestamp</th>\n",
       "      <th>prediction</th>\n",
       "      <th>squared_error</th>\n",
       "    </tr>\n",
       "  </thead>\n",
       "  <tbody>\n",
       "    <tr>\n",
       "      <th>3</th>\n",
       "      <td>1605</td>\n",
       "      <td>148</td>\n",
       "      <td>2</td>\n",
       "      <td>2000-11-22 21:57:01</td>\n",
       "      <td>2.220402</td>\n",
       "      <td>0.048577</td>\n",
       "    </tr>\n",
       "    <tr>\n",
       "      <th>9</th>\n",
       "      <td>1980</td>\n",
       "      <td>463</td>\n",
       "      <td>2</td>\n",
       "      <td>2000-11-26 17:52:43</td>\n",
       "      <td>2.369253</td>\n",
       "      <td>0.136348</td>\n",
       "    </tr>\n",
       "    <tr>\n",
       "      <th>22</th>\n",
       "      <td>4653</td>\n",
       "      <td>471</td>\n",
       "      <td>3</td>\n",
       "      <td>2000-11-29 21:42:53</td>\n",
       "      <td>3.124579</td>\n",
       "      <td>0.015520</td>\n",
       "    </tr>\n",
       "    <tr>\n",
       "      <th>25</th>\n",
       "      <td>2414</td>\n",
       "      <td>471</td>\n",
       "      <td>4</td>\n",
       "      <td>2000-11-22 18:43:49</td>\n",
       "      <td>3.575513</td>\n",
       "      <td>0.180189</td>\n",
       "    </tr>\n",
       "    <tr>\n",
       "      <th>40</th>\n",
       "      <td>2185</td>\n",
       "      <td>471</td>\n",
       "      <td>4</td>\n",
       "      <td>2000-11-27 22:19:38</td>\n",
       "      <td>3.615629</td>\n",
       "      <td>0.147741</td>\n",
       "    </tr>\n",
       "    <tr>\n",
       "      <th>...</th>\n",
       "      <td>...</td>\n",
       "      <td>...</td>\n",
       "      <td>...</td>\n",
       "      <td>...</td>\n",
       "      <td>...</td>\n",
       "      <td>...</td>\n",
       "    </tr>\n",
       "    <tr>\n",
       "      <th>159965</th>\n",
       "      <td>1843</td>\n",
       "      <td>3910</td>\n",
       "      <td>3</td>\n",
       "      <td>2000-11-21 02:03:07</td>\n",
       "      <td>2.420907</td>\n",
       "      <td>0.335349</td>\n",
       "    </tr>\n",
       "    <tr>\n",
       "      <th>159978</th>\n",
       "      <td>3821</td>\n",
       "      <td>3910</td>\n",
       "      <td>2</td>\n",
       "      <td>2000-11-20 21:41:45</td>\n",
       "      <td>2.963575</td>\n",
       "      <td>0.928476</td>\n",
       "    </tr>\n",
       "    <tr>\n",
       "      <th>159981</th>\n",
       "      <td>1791</td>\n",
       "      <td>3910</td>\n",
       "      <td>3</td>\n",
       "      <td>2000-11-21 00:50:41</td>\n",
       "      <td>3.428285</td>\n",
       "      <td>0.183428</td>\n",
       "    </tr>\n",
       "    <tr>\n",
       "      <th>159984</th>\n",
       "      <td>4790</td>\n",
       "      <td>3910</td>\n",
       "      <td>5</td>\n",
       "      <td>2000-11-26 05:35:15</td>\n",
       "      <td>3.503697</td>\n",
       "      <td>2.238922</td>\n",
       "    </tr>\n",
       "    <tr>\n",
       "      <th>159986</th>\n",
       "      <td>5927</td>\n",
       "      <td>3910</td>\n",
       "      <td>3</td>\n",
       "      <td>2000-11-21 17:38:29</td>\n",
       "      <td>3.882430</td>\n",
       "      <td>0.778682</td>\n",
       "    </tr>\n",
       "  </tbody>\n",
       "</table>\n",
       "<p>33188 rows × 6 columns</p>\n",
       "</div>"
      ],
      "text/plain": [
       "        user  movie  rating           timestamp  prediction  squared_error\n",
       "3       1605    148       2 2000-11-22 21:57:01    2.220402       0.048577\n",
       "9       1980    463       2 2000-11-26 17:52:43    2.369253       0.136348\n",
       "22      4653    471       3 2000-11-29 21:42:53    3.124579       0.015520\n",
       "25      2414    471       4 2000-11-22 18:43:49    3.575513       0.180189\n",
       "40      2185    471       4 2000-11-27 22:19:38    3.615629       0.147741\n",
       "...      ...    ...     ...                 ...         ...            ...\n",
       "159965  1843   3910       3 2000-11-21 02:03:07    2.420907       0.335349\n",
       "159978  3821   3910       2 2000-11-20 21:41:45    2.963575       0.928476\n",
       "159981  1791   3910       3 2000-11-21 00:50:41    3.428285       0.183428\n",
       "159984  4790   3910       5 2000-11-26 05:35:15    3.503697       2.238922\n",
       "159986  5927   3910       3 2000-11-21 17:38:29    3.882430       0.778682\n",
       "\n",
       "[33188 rows x 6 columns]"
      ]
     },
     "execution_count": 27,
     "metadata": {},
     "output_type": "execute_result"
    }
   ],
   "source": [
    "yhat_validation_df_no_nans"
   ]
  },
  {
   "cell_type": "code",
   "execution_count": 28,
   "metadata": {},
   "outputs": [
    {
     "name": "stdout",
     "output_type": "stream",
     "text": [
      "Root Mean Squared Error of Predictions: 0.92\n"
     ]
    }
   ],
   "source": [
    "# Calculate RMSE of \n",
    "rmse = np.sqrt(sum(yhat_validation_df_no_nans['squared_error']) / len(yhat_validation_df_no_nans))\n",
    "print(f'Root Mean Squared Error of Predictions: {rmse:.2f}')"
   ]
  },
  {
   "cell_type": "code",
   "execution_count": 29,
   "metadata": {},
   "outputs": [
    {
     "name": "stdout",
     "output_type": "stream",
     "text": [
      "Standard Deviation of Rating: 1.12\n",
      "Standard Deviation of Prediction: 0.69\n"
     ]
    }
   ],
   "source": [
    "std_rating = yhat_validation_df_no_nans.describe()['rating']['std']\n",
    "std_pred = yhat_validation_df_no_nans.describe()['prediction']['std']\n",
    "\n",
    "print(f'Standard Deviation of Rating: {std_rating:.2f}')\n",
    "print(f'Standard Deviation of Prediction: {std_pred:.2f}')"
   ]
  },
  {
   "cell_type": "markdown",
   "metadata": {},
   "source": [
    "Not Terribly..."
   ]
  },
  {
   "cell_type": "markdown",
   "metadata": {},
   "source": [
    "### Why are there so many NaN's??"
   ]
  },
  {
   "cell_type": "markdown",
   "metadata": {},
   "source": [
    "NANs occur when the matrix hasn't seen a user OR a movie yet."
   ]
  },
  {
   "cell_type": "code",
   "execution_count": 89,
   "metadata": {},
   "outputs": [],
   "source": [
    "yhat_validatin_df.to_csv('data/yhat_validation_df_ALS.csv', index=False)"
   ]
  },
  {
   "cell_type": "code",
   "execution_count": null,
   "metadata": {},
   "outputs": [],
   "source": []
  }
 ],
 "metadata": {
  "kernelspec": {
   "display_name": "Python 3",
   "language": "python",
   "name": "python3"
  },
  "language_info": {
   "codemirror_mode": {
    "name": "ipython",
    "version": 3
   },
   "file_extension": ".py",
   "mimetype": "text/x-python",
   "name": "python",
   "nbconvert_exporter": "python",
   "pygments_lexer": "ipython3",
   "version": "3.7.6"
  }
 },
 "nbformat": 4,
 "nbformat_minor": 4
}
