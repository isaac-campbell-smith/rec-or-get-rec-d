{
 "cells": [
  {
   "cell_type": "code",
   "execution_count": 2,
   "metadata": {},
   "outputs": [],
   "source": [
    "import pandas as pd\n",
    "import numpy as np\n",
    "import matplotlib.pyplot as plt\n",
    "\n",
    "from pyspark.ml.recommendation import ALS\n",
    "\n",
    "from pyspark.sql.functions import lit\n",
    "from pyspark.sql.functions import isnan, when, count, col\n",
    "\n",
    "from pyspark.sql import SparkSession\n",
    "\n",
    "# Setup a SparkSession\n",
    "spark = SparkSession.builder.getOrCreate()"
   ]
  },
  {
   "cell_type": "code",
   "execution_count": 3,
   "metadata": {},
   "outputs": [],
   "source": [
    "training = pd.read_csv('data/training.csv')\n",
    "movies = pd.read_csv('data/movies.dat', delimiter='::', names=['movie_id', 'movie_title', 'genre'], index_col='movie_id', engine='python')\n",
    "users = pd.read_csv('data/users.dat', delimiter='::', names=['user_id', 'sex', 'age', 'occupation', 'zip_code' ], index_col='user_id', engine='python')"
   ]
  },
  {
   "cell_type": "code",
   "execution_count": 7,
   "metadata": {
    "collapsed": true,
    "jupyter": {
     "outputs_hidden": true
    }
   },
   "outputs": [
    {
     "name": "stdout",
     "output_type": "stream",
     "text": [
      "+----+-----+------+---------+\n",
      "|user|movie|rating|timestamp|\n",
      "+----+-----+------+---------+\n",
      "|6040|  858|     4|956703932|\n",
      "|6040|  593|     5|956703954|\n",
      "|6040| 2384|     4|956703954|\n",
      "|6040| 1961|     4|956703977|\n",
      "|6040| 2019|     5|956703977|\n",
      "|6040| 1419|     3|956704056|\n",
      "|6040|  573|     4|956704056|\n",
      "|6040| 3111|     5|956704056|\n",
      "|6040|  213|     5|956704056|\n",
      "|6040| 3505|     4|956704056|\n",
      "|6040| 1734|     2|956704081|\n",
      "|6040|  912|     5|956704191|\n",
      "|6040|  919|     5|956704191|\n",
      "|6040| 2503|     5|956704191|\n",
      "|6040|  527|     5|956704219|\n",
      "|6040|  318|     4|956704257|\n",
      "|6040| 1252|     5|956704257|\n",
      "|6040|  649|     5|956704257|\n",
      "|6040| 3289|     5|956704305|\n",
      "|6040|  759|     5|956704448|\n",
      "+----+-----+------+---------+\n",
      "only showing top 20 rows\n",
      "\n"
     ]
    }
   ],
   "source": [
    "ratings_df = spark.createDataFrame(df)\n",
    "ratings_df.show()"
   ]
  },
  {
   "cell_type": "code",
   "execution_count": 48,
   "metadata": {},
   "outputs": [],
   "source": [
    "# split based on timestamp, for roughly an 80-20 split\n",
    "train_df = df[df['timestamp'] < 974740000]\n",
    "test_df = df[df['timestamp'] >= 974740000]"
   ]
  },
  {
   "cell_type": "code",
   "execution_count": 49,
   "metadata": {},
   "outputs": [
    {
     "data": {
      "text/plain": [
       "0.80228"
      ]
     },
     "execution_count": 49,
     "metadata": {},
     "output_type": "execute_result"
    }
   ],
   "source": [
    "train_df.shape[0] / df.shape[0]"
   ]
  },
  {
   "cell_type": "code",
   "execution_count": 50,
   "metadata": {},
   "outputs": [
    {
     "data": {
      "text/plain": [
       "1.0"
      ]
     },
     "execution_count": 50,
     "metadata": {},
     "output_type": "execute_result"
    }
   ],
   "source": [
    "(train_df.shape[0] + test_df.shape[0]) / df.shape[0]"
   ]
  },
  {
   "cell_type": "code",
   "execution_count": 52,
   "metadata": {},
   "outputs": [],
   "source": [
    "train = spark.createDataFrame(train_df)\n",
    "test = spark.createDataFrame(test_df)"
   ]
  },
  {
   "cell_type": "code",
   "execution_count": 53,
   "metadata": {},
   "outputs": [
    {
     "name": "stdout",
     "output_type": "stream",
     "text": [
      "Density of training data: 3.99%\n"
     ]
    }
   ],
   "source": [
    "density = (train.count() / (train.select('user').distinct().count() * train.select('movie').distinct().count()))\n",
    "\n",
    "print(f'Density of training data: {density * 100:.2f}%')"
   ]
  },
  {
   "cell_type": "code",
   "execution_count": 54,
   "metadata": {},
   "outputs": [
    {
     "name": "stdout",
     "output_type": "stream",
     "text": [
      "Max Ratings: 1440\n",
      "Min Ratings: 2\n"
     ]
    },
    {
     "data": {
      "text/plain": [
       "<matplotlib.axes._subplots.AxesSubplot at 0x7f95e7f0ce10>"
      ]
     },
     "execution_count": 54,
     "metadata": {},
     "output_type": "execute_result"
    },
    {
     "data": {
      "image/png": "[encoded data removed]",
      "text/plain": [
       "<Figure size 720x720 with 1 Axes>"
      ]
     },
     "metadata": {
      "needs_background": "light"
     },
     "output_type": "display_data"
    }
   ],
   "source": [
    "user_count = train.groupBy('user').count().toPandas()\n",
    "\n",
    "print('Max Ratings: {}'.format(user_count['count'].max()))\n",
    "print('Min Ratings: {}'.format(user_count['count'].min()))\n",
    "user_count['count'].hist(bins = 100, figsize=(10,10))"
   ]
  },
  {
   "cell_type": "code",
   "execution_count": 55,
   "metadata": {},
   "outputs": [
    {
     "name": "stdout",
     "output_type": "stream",
     "text": [
      "Max Ratings: 2328\n",
      "Min Ratings: 1\n"
     ]
    },
    {
     "data": {
      "text/plain": [
       "<matplotlib.axes._subplots.AxesSubplot at 0x7f95e815c810>"
      ]
     },
     "execution_count": 55,
     "metadata": {},
     "output_type": "execute_result"
    },
    {
     "data": {
      "image/png": "[encoded data removed]",
      "text/plain": [
       "<Figure size 720x720 with 1 Axes>"
      ]
     },
     "metadata": {
      "needs_background": "light"
     },
     "output_type": "display_data"
    }
   ],
   "source": [
    "movie_count = train.groupBy('movie').count().toPandas()\n",
    "\n",
    "print('Max Ratings: {}'.format(movie_count['count'].max()))\n",
    "print('Min Ratings: {}'.format(movie_count['count'].min()))\n",
    "movie_count['count'].hist(bins = 100, figsize=(10,10))"
   ]
  },
  {
   "cell_type": "markdown",
   "metadata": {},
   "source": [
    "# Create an untrained ALS model.\n"
   ]
  },
  {
   "cell_type": "code",
   "execution_count": 56,
   "metadata": {},
   "outputs": [],
   "source": [
    "als_model = ALS(\n",
    "    itemCol='movie',\n",
    "    userCol='user',\n",
    "    ratingCol='rating',\n",
    "    nonnegative=True,    \n",
    "    regParam=0.1,\n",
    "    rank=10)"
   ]
  },
  {
   "cell_type": "code",
   "execution_count": 57,
   "metadata": {},
   "outputs": [],
   "source": [
    "# Train the ALS model. We'll call the trained model `recommender`.\n",
    "recommender = als_model.fit(train)"
   ]
  },
  {
   "cell_type": "code",
   "execution_count": 58,
   "metadata": {},
   "outputs": [
    {
     "data": {
      "text/plain": [
       "[Row(id=1562, features=[0.5151082277297974, 0.7297458648681641, 0.9029687643051147, 0.16252802312374115, 0.08228518813848495, 0.747305691242218, 0.3390095829963684, 0.8523492217063904, 1.2764006853103638, 1.2317783832550049]),\n",
       " Row(id=1563, features=[1.490267276763916, 0.30610713362693787, 0.8475662469863892, 0.18378660082817078, 0.7832780480384827, 0.9630808234214783, 1.3082385063171387, 0.646838903427124, 0.39625564217567444, 0.6669080853462219]),\n",
       " Row(id=1564, features=[0.9157465696334839, 0.3780769407749176, 0.7880100607872009, 0.5875326991081238, 0.7683038115501404, 1.3594409227371216, 0.8434775471687317, 0.42871493101119995, 0.43357548117637634, 0.8848177194595337]),\n",
       " Row(id=1565, features=[0.9734428524971008, 0.0, 0.4443012773990631, 0.5882100462913513, 0.3691701889038086, 1.3335806131362915, 1.038760781288147, 0.7093330025672913, 0.772724449634552, 0.7995473742485046]),\n",
       " Row(id=1566, features=[0.7359766960144043, 0.0, 0.7002680897712708, 0.0, 1.68820321559906, 1.1725822687149048, 0.954447865486145, 0.4708191156387329, 0.36139991879463196, 0.6237254738807678])]"
      ]
     },
     "execution_count": 58,
     "metadata": {},
     "output_type": "execute_result"
    }
   ],
   "source": [
    "sorted(recommender.userFactors.collect())[:5]"
   ]
  },
  {
   "cell_type": "code",
   "execution_count": 59,
   "metadata": {},
   "outputs": [
    {
     "data": {
      "text/plain": [
       "[Row(id=1, features=[0.9190021753311157, 0.27768293023109436, 0.7115711569786072, 0.24330514669418335, 0.37826618552207947, 0.637026846408844, 0.3018113076686859, 0.12141098082065582, 0.5271127820014954, 0.8423641920089722]),\n",
       " Row(id=2, features=[0.4688868820667267, 0.2095651477575302, 0.5876148343086243, 0.29976698756217957, 0.12336818873882294, 0.6235687136650085, 0.2116233855485916, 0.29904985427856445, 0.7781823873519897, 0.29810526967048645]),\n",
       " Row(id=3, features=[0.4900987446308136, 0.33635079860687256, 0.0, 0.20082417130470276, 0.0, 0.8087934851646423, 0.0, 0.4998330771923065, 0.7523779273033142, 0.49536553025245667]),\n",
       " Row(id=4, features=[0.605455756187439, 0.5693897008895874, 0.2265513688325882, 0.08744049072265625, 0.2711157500743866, 0.46212753653526306, 0.22150182723999023, 0.027150044217705727, 0.8465858697891235, 0.03906070441007614]),\n",
       " Row(id=5, features=[0.4743422567844391, 0.5139743685722351, 0.0800316259264946, 0.0, 0.00015428016195073724, 0.6715837121009827, 0.0020274408161640167, 0.12109754979610443, 1.125707745552063, 0.37969011068344116])]"
      ]
     },
     "execution_count": 59,
     "metadata": {},
     "output_type": "execute_result"
    }
   ],
   "source": [
    "sorted(recommender.itemFactors.collect())[:5]"
   ]
  },
  {
   "cell_type": "code",
   "execution_count": 60,
   "metadata": {},
   "outputs": [],
   "source": [
    "yhat_train = recommender.transform(train)"
   ]
  },
  {
   "cell_type": "code",
   "execution_count": 61,
   "metadata": {},
   "outputs": [
    {
     "name": "stdout",
     "output_type": "stream",
     "text": [
      "+----+-----+------+---------+----------+\n",
      "|user|movie|rating|timestamp|prediction|\n",
      "+----+-----+------+---------+----------+\n",
      "|   0|    0|     0|        0|         0|\n",
      "+----+-----+------+---------+----------+\n",
      "\n"
     ]
    }
   ],
   "source": [
    "yhat_train.select([count(when(isnan(c), c)).alias(c) for c in yhat_train.columns]).show()"
   ]
  },
  {
   "cell_type": "code",
   "execution_count": 62,
   "metadata": {},
   "outputs": [
    {
     "name": "stdout",
     "output_type": "stream",
     "text": [
      "+----+-----+------+---------+----------+\n",
      "|user|movie|rating|timestamp|prediction|\n",
      "+----+-----+------+---------+----------+\n",
      "|4227|  148|     2|965659724| 2.1379628|\n",
      "|3184|  148|     4|968708953| 3.2579472|\n",
      "|4784|  148|     3|970000570| 2.9012449|\n",
      "|2383|  148|     2|974417654| 2.3509796|\n",
      "|3539|  148|     3|966932408| 2.7074847|\n",
      "|3829|  148|     2|965940170| 2.3784328|\n",
      "|2456|  148|     2|974178993| 2.4450996|\n",
      "|2507|  148|     4|974082717| 3.1364677|\n",
      "|3053|  148|     3|970170090|  2.677186|\n",
      "|3841|  463|     3|966003085|  2.566588|\n",
      "|3650|  463|     2|966459084|  2.589714|\n",
      "|3151|  463|     5|968916009| 3.9177732|\n",
      "|4858|  463|     3|963746396| 2.4707265|\n",
      "|2629|  463|     4|973625620| 3.1455767|\n",
      "|3328|  463|     4|967918151| 3.1497078|\n",
      "|4040|  463|     1|965505136| 1.7982821|\n",
      "|4277|  463|     4|965469038| 3.3358335|\n",
      "|2051|  463|     1|974663178| 1.9354658|\n",
      "|3753|  463|     2|966184754| 2.2116852|\n",
      "|5047|  463|     3|966134684| 2.2635717|\n",
      "+----+-----+------+---------+----------+\n",
      "only showing top 20 rows\n",
      "\n"
     ]
    }
   ],
   "source": [
    "yhat_train.show()"
   ]
  },
  {
   "cell_type": "code",
   "execution_count": 63,
   "metadata": {},
   "outputs": [],
   "source": [
    "predictions = recommender.transform(test)"
   ]
  },
  {
   "cell_type": "code",
   "execution_count": 64,
   "metadata": {},
   "outputs": [
    {
     "name": "stdout",
     "output_type": "stream",
     "text": [
      "+----+-----+------+---------+----------+\n",
      "|user|movie|rating|timestamp|prediction|\n",
      "+----+-----+------+---------+----------+\n",
      "|   0|    0|     0|        0|    126058|\n",
      "+----+-----+------+---------+----------+\n",
      "\n"
     ]
    }
   ],
   "source": [
    "# nans in the testing prediction\n",
    "predictions.select([count(when(isnan(c), c)).alias(c) for c in yhat_train.columns]).show()"
   ]
  },
  {
   "cell_type": "markdown",
   "metadata": {},
   "source": [
    "# Evaluate baseline"
   ]
  },
  {
   "cell_type": "code",
   "execution_count": 65,
   "metadata": {},
   "outputs": [],
   "source": [
    "# Dump the predictions to Pandas DataFrames to make our final calculations easier\n",
    "predictions_df = predictions.toPandas()\n",
    "train_df = train.toPandas()"
   ]
  },
  {
   "cell_type": "code",
   "execution_count": 66,
   "metadata": {},
   "outputs": [],
   "source": [
    "# Fill any missing values with the mean rating\n",
    "# There are multiple things you could fill with, this is just one example\n",
    "predictions_df = predictions.toPandas().fillna(train_df['rating'].mean())"
   ]
  },
  {
   "cell_type": "code",
   "execution_count": 67,
   "metadata": {},
   "outputs": [],
   "source": [
    "predictions_df['squared_error'] = (predictions_df['rating'] - predictions_df['prediction'])**2"
   ]
  },
  {
   "cell_type": "code",
   "execution_count": 68,
   "metadata": {},
   "outputs": [
    {
     "data": {
      "text/html": [
       "<div>\n",
       "<style scoped>\n",
       "    .dataframe tbody tr th:only-of-type {\n",
       "        vertical-align: middle;\n",
       "    }\n",
       "\n",
       "    .dataframe tbody tr th {\n",
       "        vertical-align: top;\n",
       "    }\n",
       "\n",
       "    .dataframe thead th {\n",
       "        text-align: right;\n",
       "    }\n",
       "</style>\n",
       "<table border=\"1\" class=\"dataframe\">\n",
       "  <thead>\n",
       "    <tr style=\"text-align: right;\">\n",
       "      <th></th>\n",
       "      <th>user</th>\n",
       "      <th>movie</th>\n",
       "      <th>rating</th>\n",
       "      <th>timestamp</th>\n",
       "      <th>prediction</th>\n",
       "      <th>squared_error</th>\n",
       "    </tr>\n",
       "  </thead>\n",
       "  <tbody>\n",
       "    <tr>\n",
       "      <th>0</th>\n",
       "      <td>673</td>\n",
       "      <td>148</td>\n",
       "      <td>5</td>\n",
       "      <td>975620824</td>\n",
       "      <td>3.606881</td>\n",
       "      <td>1.940779</td>\n",
       "    </tr>\n",
       "    <tr>\n",
       "      <th>1</th>\n",
       "      <td>1242</td>\n",
       "      <td>148</td>\n",
       "      <td>3</td>\n",
       "      <td>974909976</td>\n",
       "      <td>3.606881</td>\n",
       "      <td>0.368305</td>\n",
       "    </tr>\n",
       "    <tr>\n",
       "      <th>2</th>\n",
       "      <td>1069</td>\n",
       "      <td>148</td>\n",
       "      <td>2</td>\n",
       "      <td>974945135</td>\n",
       "      <td>3.606881</td>\n",
       "      <td>2.582068</td>\n",
       "    </tr>\n",
       "    <tr>\n",
       "      <th>3</th>\n",
       "      <td>1605</td>\n",
       "      <td>148</td>\n",
       "      <td>2</td>\n",
       "      <td>974930221</td>\n",
       "      <td>1.980308</td>\n",
       "      <td>0.000388</td>\n",
       "    </tr>\n",
       "    <tr>\n",
       "      <th>4</th>\n",
       "      <td>1150</td>\n",
       "      <td>148</td>\n",
       "      <td>2</td>\n",
       "      <td>974875106</td>\n",
       "      <td>3.606881</td>\n",
       "      <td>2.582068</td>\n",
       "    </tr>\n",
       "  </tbody>\n",
       "</table>\n",
       "</div>"
      ],
      "text/plain": [
       "   user  movie  rating  timestamp  prediction  squared_error\n",
       "0   673    148       5  975620824    3.606881       1.940779\n",
       "1  1242    148       3  974909976    3.606881       0.368305\n",
       "2  1069    148       2  974945135    3.606881       2.582068\n",
       "3  1605    148       2  974930221    1.980308       0.000388\n",
       "4  1150    148       2  974875106    3.606881       2.582068"
      ]
     },
     "execution_count": 68,
     "metadata": {},
     "output_type": "execute_result"
    }
   ],
   "source": [
    "predictions_df.head()"
   ]
  },
  {
   "cell_type": "code",
   "execution_count": 69,
   "metadata": {},
   "outputs": [
    {
     "data": {
      "text/html": [
       "<div>\n",
       "<style scoped>\n",
       "    .dataframe tbody tr th:only-of-type {\n",
       "        vertical-align: middle;\n",
       "    }\n",
       "\n",
       "    .dataframe tbody tr th {\n",
       "        vertical-align: top;\n",
       "    }\n",
       "\n",
       "    .dataframe thead th {\n",
       "        text-align: right;\n",
       "    }\n",
       "</style>\n",
       "<table border=\"1\" class=\"dataframe\">\n",
       "  <thead>\n",
       "    <tr style=\"text-align: right;\">\n",
       "      <th></th>\n",
       "      <th>user</th>\n",
       "      <th>movie</th>\n",
       "      <th>rating</th>\n",
       "      <th>timestamp</th>\n",
       "      <th>prediction</th>\n",
       "      <th>squared_error</th>\n",
       "    </tr>\n",
       "  </thead>\n",
       "  <tbody>\n",
       "    <tr>\n",
       "      <th>count</th>\n",
       "      <td>158176.000000</td>\n",
       "      <td>158176.000000</td>\n",
       "      <td>158176.000000</td>\n",
       "      <td>1.581760e+05</td>\n",
       "      <td>158176.000000</td>\n",
       "      <td>1.581760e+05</td>\n",
       "    </tr>\n",
       "    <tr>\n",
       "      <th>mean</th>\n",
       "      <td>1280.579235</td>\n",
       "      <td>1868.670829</td>\n",
       "      <td>3.523923</td>\n",
       "      <td>9.750753e+08</td>\n",
       "      <td>3.545189</td>\n",
       "      <td>1.235456e+00</td>\n",
       "    </tr>\n",
       "    <tr>\n",
       "      <th>std</th>\n",
       "      <td>516.866310</td>\n",
       "      <td>1103.873411</td>\n",
       "      <td>1.146110</td>\n",
       "      <td>3.016431e+05</td>\n",
       "      <td>0.329173</td>\n",
       "      <td>1.646257e+00</td>\n",
       "    </tr>\n",
       "    <tr>\n",
       "      <th>min</th>\n",
       "      <td>636.000000</td>\n",
       "      <td>1.000000</td>\n",
       "      <td>1.000000</td>\n",
       "      <td>9.747400e+08</td>\n",
       "      <td>0.290563</td>\n",
       "      <td>4.604317e-10</td>\n",
       "    </tr>\n",
       "    <tr>\n",
       "      <th>25%</th>\n",
       "      <td>935.000000</td>\n",
       "      <td>1025.000000</td>\n",
       "      <td>3.000000</td>\n",
       "      <td>9.748185e+08</td>\n",
       "      <td>3.606881</td>\n",
       "      <td>1.545423e-01</td>\n",
       "    </tr>\n",
       "    <tr>\n",
       "      <th>50%</th>\n",
       "      <td>1202.000000</td>\n",
       "      <td>1836.000000</td>\n",
       "      <td>4.000000</td>\n",
       "      <td>9.749512e+08</td>\n",
       "      <td>3.606881</td>\n",
       "      <td>3.683050e-01</td>\n",
       "    </tr>\n",
       "    <tr>\n",
       "      <th>75%</th>\n",
       "      <td>1491.000000</td>\n",
       "      <td>2770.000000</td>\n",
       "      <td>4.000000</td>\n",
       "      <td>9.753519e+08</td>\n",
       "      <td>3.606881</td>\n",
       "      <td>1.940779e+00</td>\n",
       "    </tr>\n",
       "    <tr>\n",
       "      <th>max</th>\n",
       "      <td>5996.000000</td>\n",
       "      <td>3952.000000</td>\n",
       "      <td>5.000000</td>\n",
       "      <td>9.757673e+08</td>\n",
       "      <td>5.577134</td>\n",
       "      <td>1.247443e+01</td>\n",
       "    </tr>\n",
       "  </tbody>\n",
       "</table>\n",
       "</div>"
      ],
      "text/plain": [
       "                user          movie         rating     timestamp  \\\n",
       "count  158176.000000  158176.000000  158176.000000  1.581760e+05   \n",
       "mean     1280.579235    1868.670829       3.523923  9.750753e+08   \n",
       "std       516.866310    1103.873411       1.146110  3.016431e+05   \n",
       "min       636.000000       1.000000       1.000000  9.747400e+08   \n",
       "25%       935.000000    1025.000000       3.000000  9.748185e+08   \n",
       "50%      1202.000000    1836.000000       4.000000  9.749512e+08   \n",
       "75%      1491.000000    2770.000000       4.000000  9.753519e+08   \n",
       "max      5996.000000    3952.000000       5.000000  9.757673e+08   \n",
       "\n",
       "          prediction  squared_error  \n",
       "count  158176.000000   1.581760e+05  \n",
       "mean        3.545189   1.235456e+00  \n",
       "std         0.329173   1.646257e+00  \n",
       "min         0.290563   4.604317e-10  \n",
       "25%         3.606881   1.545423e-01  \n",
       "50%         3.606881   3.683050e-01  \n",
       "75%         3.606881   1.940779e+00  \n",
       "max         5.577134   1.247443e+01  "
      ]
     },
     "execution_count": 69,
     "metadata": {},
     "output_type": "execute_result"
    }
   ],
   "source": [
    "predictions_df.describe()"
   ]
  },
  {
   "cell_type": "code",
   "execution_count": 74,
   "metadata": {},
   "outputs": [
    {
     "name": "stdout",
     "output_type": "stream",
     "text": [
      "Average squared error of predictions: 1.24\n"
     ]
    }
   ],
   "source": [
    "avg_sq_err = predictions_df.describe()['squared_error']['mean']\n",
    "print(f'Average squared error of predictions: {avg_sq_err:.2f}')"
   ]
  },
  {
   "cell_type": "code",
   "execution_count": 76,
   "metadata": {},
   "outputs": [
    {
     "name": "stdout",
     "output_type": "stream",
     "text": [
      "Root Mean Squared Error of Predictions: 1.11\n"
     ]
    }
   ],
   "source": [
    "# Calculate RMSE\n",
    "rmse = np.sqrt(sum(predictions_df['squared_error']) / len(predictions_df))\n",
    "print(f'Root Mean Squared Error of Predictions: {rmse:.2f}')"
   ]
  },
  {
   "cell_type": "code",
   "execution_count": 83,
   "metadata": {},
   "outputs": [
    {
     "name": "stdout",
     "output_type": "stream",
     "text": [
      "Standard Deviation of Rating: 1.15\n",
      "Standard Deviation of Prediction: 0.33\n"
     ]
    }
   ],
   "source": [
    "std_rating = predictions_df.describe()['rating']['std']\n",
    "std_pred = predictions_df.describe()['prediction']['std']\n",
    "\n",
    "print(f'Standard Deviation of Rating: {std_rating:.2f}')\n",
    "print(f'Standard Deviation of Prediction: {std_pred:.2f}')"
   ]
  },
  {
   "cell_type": "code",
   "execution_count": 84,
   "metadata": {},
   "outputs": [
    {
     "name": "stdout",
     "output_type": "stream",
     "text": [
      "RMSE Percentage = 31.54%\n"
     ]
    }
   ],
   "source": [
    "_mean = predictions_df['rating'].mean()\n",
    "rmsep = rmse / _mean\n",
    "print(f'RMSE Percentage = {rmsep * 100:.2f}%')"
   ]
  },
  {
   "cell_type": "code",
   "execution_count": 82,
   "metadata": {},
   "outputs": [
    {
     "data": {
      "image/png": "[encoded data removed]",
      "text/plain": [
       "<Figure size 720x720 with 1 Axes>"
      ]
     },
     "metadata": {
      "needs_background": "light"
     },
     "output_type": "display_data"
    }
   ],
   "source": [
    "# Create array of predictions for violinplot\n",
    "data = [predictions_df['prediction'][predictions_df['rating'] == rating].values for rating in range(1, 6)]\n",
    "fig, ax = plt.subplots(figsize=(10,10))\n",
    "plt.violinplot(data, range(1,6), showmeans=True)\n",
    "plt.xlabel('True Ratings')\n",
    "plt.ylabel('Predicted Ratings')\n",
    "plt.title('True vs. ALS Recommender Predicted Ratings')\n",
    "plt.show()"
   ]
  },
  {
   "cell_type": "markdown",
   "metadata": {},
   "source": [
    "# implicit interactions"
   ]
  },
  {
   "cell_type": "code",
   "execution_count": 39,
   "metadata": {},
   "outputs": [],
   "source": [
    "train = train.withColumn(\"imp_rating\", lit(1))\n"
   ]
  },
  {
   "cell_type": "code",
   "execution_count": 40,
   "metadata": {},
   "outputs": [
    {
     "name": "stdout",
     "output_type": "stream",
     "text": [
      "+----+-----+------+---------+----------+\n",
      "|user|movie|rating|timestamp|imp_rating|\n",
      "+----+-----+------+---------+----------+\n",
      "|5344|  300|     4|960670929|         1|\n",
      "|5344|  480|     3|960670865|         1|\n",
      "|5344| 1210|     1|960671010|         1|\n",
      "|5344| 2330|     4|960671323|         1|\n",
      "|5344| 3671|     4|960671113|         1|\n",
      "|5344| 3688|     1|960671208|         1|\n",
      "|5344| 3724|     4|960671133|         1|\n",
      "|5345|    6|     5|960671329|         1|\n",
      "|5345|   21|     3|960671248|         1|\n",
      "|5345|  110|     5|960671248|         1|\n",
      "|5345|  172|     3|960670788|         1|\n",
      "|5345|  260|     5|960671126|         1|\n",
      "|5345|  306|     4|960671025|         1|\n",
      "|5345|  381|     5|960671025|         1|\n",
      "|5345|  457|     4|960671248|         1|\n",
      "|5345|  474|     4|960671329|         1|\n",
      "|5345|  858|     5|960671126|         1|\n",
      "|5345| 1036|     4|960671279|         1|\n",
      "|5345| 1196|     5|960670761|         1|\n",
      "|5345| 1197|     5|960671216|         1|\n",
      "+----+-----+------+---------+----------+\n",
      "only showing top 20 rows\n",
      "\n"
     ]
    }
   ],
   "source": [
    "train.show()"
   ]
  },
  {
   "cell_type": "code",
   "execution_count": 41,
   "metadata": {},
   "outputs": [],
   "source": [
    "als_model_imp = ALS(userCol='user',\n",
    "                itemCol='movie',\n",
    "                ratingCol='rating',\n",
    "                implicitPrefs=True,\n",
    "                nonnegative=True,\n",
    "                regParam=0.1,\n",
    "                rank=10\n",
    "               )\n",
    "\n",
    "recommender_imp = als_model_imp.fit(train)"
   ]
  },
  {
   "cell_type": "code",
   "execution_count": 42,
   "metadata": {},
   "outputs": [],
   "source": [
    "# Dump the predictions to Pandas DataFrames to make our final calculations easier\n",
    "predictions_df = predictions.toPandas()\n",
    "train_df = train.toPandas()"
   ]
  }
 ],
 "metadata": {
  "kernelspec": {
   "display_name": "Python 3",
   "language": "python",
   "name": "python3"
  },
  "language_info": {
   "codemirror_mode": {
    "name": "ipython",
    "version": 3
   },
   "file_extension": ".py",
   "mimetype": "text/x-python",
   "name": "python",
   "nbconvert_exporter": "python",
   "pygments_lexer": "ipython3",
   "version": "3.7.6"
  }
 },
 "nbformat": 4,
 "nbformat_minor": 4
}
